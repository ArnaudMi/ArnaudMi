{
 "cells": [
  {
   "cell_type": "code",
   "execution_count": 1,
   "metadata": {},
   "outputs": [
    {
     "name": "stdout",
     "output_type": "stream",
     "text": [
      "Requirement already satisfied: beautifulsoup4 in c:\\users\\minon\\appdata\\local\\programs\\python\\python310\\lib\\site-packages (4.11.1)Note: you may need to restart the kernel to use updated packages.\n",
      "\n",
      "Requirement already satisfied: soupsieve>1.2 in c:\\users\\minon\\appdata\\local\\programs\\python\\python310\\lib\\site-packages (from beautifulsoup4) (2.3.2.post1)\n"
     ]
    },
    {
     "name": "stderr",
     "output_type": "stream",
     "text": [
      "\n",
      "[notice] A new release of pip available: 22.3 -> 22.3.1\n",
      "[notice] To update, run: python.exe -m pip install --upgrade pip\n"
     ]
    }
   ],
   "source": [
    "%pip install beautifulsoup4"
   ]
  },
  {
   "cell_type": "code",
   "execution_count": 2,
   "metadata": {},
   "outputs": [],
   "source": [
    "import numpy as np\n",
    "import pandas as pd\n",
    "import os\n",
    "from bs4 import BeautifulSoup"
   ]
  },
  {
   "cell_type": "code",
   "execution_count": 34,
   "metadata": {},
   "outputs": [],
   "source": [
    "train = pd.read_csv(os.getcwd()+\"/stack_stats_2020_train.csv\")\n",
    "test = pd.read_csv(os.getcwd()+'/stack_stats_2020_test.csv')"
   ]
  },
  {
   "cell_type": "code",
   "execution_count": 35,
   "metadata": {},
   "outputs": [],
   "source": [
    "train_id = train['Id']\n",
    "test_id = train['Id']"
   ]
  },
  {
   "cell_type": "code",
   "execution_count": 49,
   "metadata": {},
   "outputs": [
    {
     "data": {
      "text/html": [
       "<div>\n",
       "<style scoped>\n",
       "    .dataframe tbody tr th:only-of-type {\n",
       "        vertical-align: middle;\n",
       "    }\n",
       "\n",
       "    .dataframe tbody tr th {\n",
       "        vertical-align: top;\n",
       "    }\n",
       "\n",
       "    .dataframe thead th {\n",
       "        text-align: right;\n",
       "    }\n",
       "</style>\n",
       "<table border=\"1\" class=\"dataframe\">\n",
       "  <thead>\n",
       "    <tr style=\"text-align: right;\">\n",
       "      <th></th>\n",
       "      <th>Id</th>\n",
       "      <th>Score</th>\n",
       "      <th>Body</th>\n",
       "      <th>Title</th>\n",
       "      <th>Tags</th>\n",
       "    </tr>\n",
       "  </thead>\n",
       "  <tbody>\n",
       "    <tr>\n",
       "      <th>0</th>\n",
       "      <td>495560</td>\n",
       "      <td>1</td>\n",
       "      <td>&lt;p&gt;I have a set of data that I am transforming...</td>\n",
       "      <td>R: emmeans back tranform clr data using clrInv</td>\n",
       "      <td>&lt;r&gt;&lt;mixed-model&gt;&lt;linear&gt;&lt;lsmeans&gt;</td>\n",
       "    </tr>\n",
       "    <tr>\n",
       "      <th>1</th>\n",
       "      <td>489896</td>\n",
       "      <td>0</td>\n",
       "      <td>&lt;p&gt;We are sending a one bit message to someone...</td>\n",
       "      <td>Trying to determine the failure rate of redund...</td>\n",
       "      <td>&lt;probability&gt;&lt;python&gt;</td>\n",
       "    </tr>\n",
       "    <tr>\n",
       "      <th>2</th>\n",
       "      <td>497951</td>\n",
       "      <td>2</td>\n",
       "      <td>&lt;p&gt;I am aware that there is a similar post: &lt;a...</td>\n",
       "      <td>How to derive categorical cross entropy update...</td>\n",
       "      <td>&lt;logistic&gt;&lt;cross-entropy&gt;</td>\n",
       "    </tr>\n",
       "    <tr>\n",
       "      <th>3</th>\n",
       "      <td>478542</td>\n",
       "      <td>2</td>\n",
       "      <td>&lt;p&gt;I have a Poisson distributed glm where I ha...</td>\n",
       "      <td>Learning more about glm parameters, how to dig...</td>\n",
       "      <td>&lt;generalized-linear-model&gt;&lt;interpretation&gt;</td>\n",
       "    </tr>\n",
       "    <tr>\n",
       "      <th>4</th>\n",
       "      <td>458388</td>\n",
       "      <td>0</td>\n",
       "      <td>&lt;p&gt;1) how do i decide which transformation or ...</td>\n",
       "      <td>Is there I guide to decide which transformatio...</td>\n",
       "      <td>&lt;python&gt;&lt;data-transformation&gt;&lt;dataset&gt;&lt;feature...</td>\n",
       "    </tr>\n",
       "    <tr>\n",
       "      <th>...</th>\n",
       "      <td>...</td>\n",
       "      <td>...</td>\n",
       "      <td>...</td>\n",
       "      <td>...</td>\n",
       "      <td>...</td>\n",
       "    </tr>\n",
       "    <tr>\n",
       "      <th>19242</th>\n",
       "      <td>464995</td>\n",
       "      <td>0</td>\n",
       "      <td>&lt;p&gt;I'm currently trying to implement a decisio...</td>\n",
       "      <td>How does decision tree classify tuple whose co...</td>\n",
       "      <td>&lt;classification&gt;&lt;cart&gt;</td>\n",
       "    </tr>\n",
       "    <tr>\n",
       "      <th>19243</th>\n",
       "      <td>477516</td>\n",
       "      <td>0</td>\n",
       "      <td>&lt;p&gt;What are the available tools (results) that...</td>\n",
       "      <td>What are the available tools (results) that ca...</td>\n",
       "      <td>&lt;convergence&gt;&lt;asymptotics&gt;&lt;central-limit-theor...</td>\n",
       "    </tr>\n",
       "    <tr>\n",
       "      <th>19244</th>\n",
       "      <td>461894</td>\n",
       "      <td>1</td>\n",
       "      <td>&lt;p&gt;Let &lt;span class=\"math-container\"&gt;$X^n=(X_1,...</td>\n",
       "      <td>Maximum Likelihood Estimator for Censored Data</td>\n",
       "      <td>&lt;estimation&gt;&lt;maximum-likelihood&gt;&lt;censoring&gt;</td>\n",
       "    </tr>\n",
       "    <tr>\n",
       "      <th>19245</th>\n",
       "      <td>498148</td>\n",
       "      <td>0</td>\n",
       "      <td>&lt;p&gt;I have a data set of property sales where i...</td>\n",
       "      <td>Can you use a single missingness indicator for...</td>\n",
       "      <td>&lt;missing-data&gt;&lt;data-preprocessing&gt;&lt;indicator-f...</td>\n",
       "    </tr>\n",
       "    <tr>\n",
       "      <th>19246</th>\n",
       "      <td>469634</td>\n",
       "      <td>0</td>\n",
       "      <td>&lt;p&gt;I have data from a human subject experiment...</td>\n",
       "      <td>What is the appropriate non-parametric test fo...</td>\n",
       "      <td>&lt;r&gt;&lt;mixed-model&gt;&lt;repeated-measures&gt;&lt;nonparamet...</td>\n",
       "    </tr>\n",
       "  </tbody>\n",
       "</table>\n",
       "<p>19247 rows × 5 columns</p>\n",
       "</div>"
      ],
      "text/plain": [
       "           Id  Score                                               Body  \\\n",
       "0      495560      1  <p>I have a set of data that I am transforming...   \n",
       "1      489896      0  <p>We are sending a one bit message to someone...   \n",
       "2      497951      2  <p>I am aware that there is a similar post: <a...   \n",
       "3      478542      2  <p>I have a Poisson distributed glm where I ha...   \n",
       "4      458388      0  <p>1) how do i decide which transformation or ...   \n",
       "...       ...    ...                                                ...   \n",
       "19242  464995      0  <p>I'm currently trying to implement a decisio...   \n",
       "19243  477516      0  <p>What are the available tools (results) that...   \n",
       "19244  461894      1  <p>Let <span class=\"math-container\">$X^n=(X_1,...   \n",
       "19245  498148      0  <p>I have a data set of property sales where i...   \n",
       "19246  469634      0  <p>I have data from a human subject experiment...   \n",
       "\n",
       "                                                   Title  \\\n",
       "0         R: emmeans back tranform clr data using clrInv   \n",
       "1      Trying to determine the failure rate of redund...   \n",
       "2      How to derive categorical cross entropy update...   \n",
       "3      Learning more about glm parameters, how to dig...   \n",
       "4      Is there I guide to decide which transformatio...   \n",
       "...                                                  ...   \n",
       "19242  How does decision tree classify tuple whose co...   \n",
       "19243  What are the available tools (results) that ca...   \n",
       "19244     Maximum Likelihood Estimator for Censored Data   \n",
       "19245  Can you use a single missingness indicator for...   \n",
       "19246  What is the appropriate non-parametric test fo...   \n",
       "\n",
       "                                                    Tags  \n",
       "0                      <r><mixed-model><linear><lsmeans>  \n",
       "1                                  <probability><python>  \n",
       "2                              <logistic><cross-entropy>  \n",
       "3             <generalized-linear-model><interpretation>  \n",
       "4      <python><data-transformation><dataset><feature...  \n",
       "...                                                  ...  \n",
       "19242                             <classification><cart>  \n",
       "19243  <convergence><asymptotics><central-limit-theor...  \n",
       "19244        <estimation><maximum-likelihood><censoring>  \n",
       "19245  <missing-data><data-preprocessing><indicator-f...  \n",
       "19246  <r><mixed-model><repeated-measures><nonparamet...  \n",
       "\n",
       "[19247 rows x 5 columns]"
      ]
     },
     "execution_count": 49,
     "metadata": {},
     "output_type": "execute_result"
    }
   ],
   "source": [
    "train"
   ]
  },
  {
   "cell_type": "code",
   "execution_count": 57,
   "metadata": {},
   "outputs": [],
   "source": [
    "df = pd.concat([train,test],axis=0,ignore_index=True)\n"
   ]
  },
  {
   "cell_type": "code",
   "execution_count": 58,
   "metadata": {},
   "outputs": [
    {
     "data": {
      "text/html": [
       "<div>\n",
       "<style scoped>\n",
       "    .dataframe tbody tr th:only-of-type {\n",
       "        vertical-align: middle;\n",
       "    }\n",
       "\n",
       "    .dataframe tbody tr th {\n",
       "        vertical-align: top;\n",
       "    }\n",
       "\n",
       "    .dataframe thead th {\n",
       "        text-align: right;\n",
       "    }\n",
       "</style>\n",
       "<table border=\"1\" class=\"dataframe\">\n",
       "  <thead>\n",
       "    <tr style=\"text-align: right;\">\n",
       "      <th></th>\n",
       "      <th>Id</th>\n",
       "      <th>Score</th>\n",
       "      <th>Body</th>\n",
       "      <th>Title</th>\n",
       "      <th>Tags</th>\n",
       "    </tr>\n",
       "  </thead>\n",
       "  <tbody>\n",
       "    <tr>\n",
       "      <th>0</th>\n",
       "      <td>495560</td>\n",
       "      <td>1</td>\n",
       "      <td>&lt;p&gt;I have a set of data that I am transforming...</td>\n",
       "      <td>R: emmeans back tranform clr data using clrInv</td>\n",
       "      <td>&lt;r&gt;&lt;mixed-model&gt;&lt;linear&gt;&lt;lsmeans&gt;</td>\n",
       "    </tr>\n",
       "    <tr>\n",
       "      <th>1</th>\n",
       "      <td>489896</td>\n",
       "      <td>0</td>\n",
       "      <td>&lt;p&gt;We are sending a one bit message to someone...</td>\n",
       "      <td>Trying to determine the failure rate of redund...</td>\n",
       "      <td>&lt;probability&gt;&lt;python&gt;</td>\n",
       "    </tr>\n",
       "    <tr>\n",
       "      <th>2</th>\n",
       "      <td>497951</td>\n",
       "      <td>2</td>\n",
       "      <td>&lt;p&gt;I am aware that there is a similar post: &lt;a...</td>\n",
       "      <td>How to derive categorical cross entropy update...</td>\n",
       "      <td>&lt;logistic&gt;&lt;cross-entropy&gt;</td>\n",
       "    </tr>\n",
       "    <tr>\n",
       "      <th>3</th>\n",
       "      <td>478542</td>\n",
       "      <td>2</td>\n",
       "      <td>&lt;p&gt;I have a Poisson distributed glm where I ha...</td>\n",
       "      <td>Learning more about glm parameters, how to dig...</td>\n",
       "      <td>&lt;generalized-linear-model&gt;&lt;interpretation&gt;</td>\n",
       "    </tr>\n",
       "    <tr>\n",
       "      <th>4</th>\n",
       "      <td>458388</td>\n",
       "      <td>0</td>\n",
       "      <td>&lt;p&gt;1) how do i decide which transformation or ...</td>\n",
       "      <td>Is there I guide to decide which transformatio...</td>\n",
       "      <td>&lt;python&gt;&lt;data-transformation&gt;&lt;dataset&gt;&lt;feature...</td>\n",
       "    </tr>\n",
       "  </tbody>\n",
       "</table>\n",
       "</div>"
      ],
      "text/plain": [
       "       Id  Score                                               Body  \\\n",
       "0  495560      1  <p>I have a set of data that I am transforming...   \n",
       "1  489896      0  <p>We are sending a one bit message to someone...   \n",
       "2  497951      2  <p>I am aware that there is a similar post: <a...   \n",
       "3  478542      2  <p>I have a Poisson distributed glm where I ha...   \n",
       "4  458388      0  <p>1) how do i decide which transformation or ...   \n",
       "\n",
       "                                               Title  \\\n",
       "0     R: emmeans back tranform clr data using clrInv   \n",
       "1  Trying to determine the failure rate of redund...   \n",
       "2  How to derive categorical cross entropy update...   \n",
       "3  Learning more about glm parameters, how to dig...   \n",
       "4  Is there I guide to decide which transformatio...   \n",
       "\n",
       "                                                Tags  \n",
       "0                  <r><mixed-model><linear><lsmeans>  \n",
       "1                              <probability><python>  \n",
       "2                          <logistic><cross-entropy>  \n",
       "3         <generalized-linear-model><interpretation>  \n",
       "4  <python><data-transformation><dataset><feature...  "
      ]
     },
     "execution_count": 58,
     "metadata": {},
     "output_type": "execute_result"
    }
   ],
   "source": [
    "df.head()"
   ]
  },
  {
   "cell_type": "code",
   "execution_count": 59,
   "metadata": {},
   "outputs": [
    {
     "name": "stdout",
     "output_type": "stream",
     "text": [
      "<class 'pandas.core.frame.DataFrame'>\n",
      "RangeIndex: 27496 entries, 0 to 27495\n",
      "Data columns (total 5 columns):\n",
      " #   Column  Non-Null Count  Dtype \n",
      "---  ------  --------------  ----- \n",
      " 0   Id      27496 non-null  int64 \n",
      " 1   Score   27496 non-null  int64 \n",
      " 2   Body    27496 non-null  object\n",
      " 3   Title   27496 non-null  object\n",
      " 4   Tags    27496 non-null  object\n",
      "dtypes: int64(2), object(3)\n",
      "memory usage: 1.0+ MB\n"
     ]
    }
   ],
   "source": [
    "df.info()"
   ]
  },
  {
   "cell_type": "markdown",
   "metadata": {},
   "source": [
    "**Pre-Processing**\n",
    "Applying Beautifulsoup.get_text() to all body elements. Removing '\\n' characters"
   ]
  },
  {
   "cell_type": "code",
   "execution_count": 61,
   "metadata": {},
   "outputs": [
    {
     "data": {
      "text/plain": [
       "'<p>I have a set of data that I am transforming using the <code>clr</code> function</p>\\n<pre><code>library(compositions)\\nclr(my_data)\\n</code></pre>\\n<p>Now I used <code>lmer</code> to build mixed effect linear models and I am extracting the estimated means and the contrasts using <code>emmeans</code>. I am aware of the options that can be used to back-transform the data</p>\\n<p>e.g.</p>\\n<pre><code>  model.rg &lt;- update(ref_grid(model), tran =  &quot;asin.sqrt&quot;)\\n  emm1&lt;-emmeans(model.rg, specs = ~ drug:age:time, type = &quot;response&quot;)\\n</code></pre>\\n<p>However, I cannot figure out how to back-transform the data CLR transformed.\\nAny idea how could I achieve the back-transformation within <code>emmeans</code>?</p>\\n<p>Thank you</p>\\n'"
      ]
     },
     "execution_count": 61,
     "metadata": {},
     "output_type": "execute_result"
    }
   ],
   "source": [
    "df[\"Body\"][0]"
   ]
  },
  {
   "cell_type": "code",
   "execution_count": 62,
   "metadata": {},
   "outputs": [
    {
     "data": {
      "text/plain": [
       "'I have a set of data that I am transforming using the clr function\\nlibrary(compositions)\\nclr(my_data)\\n\\nNow I used lmer to build mixed effect linear models and I am extracting the estimated means and the contrasts using emmeans. I am aware of the options that can be used to back-transform the data\\ne.g.\\n  model.rg <- update(ref_grid(model), tran =  \"asin.sqrt\")\\n  emm1<-emmeans(model.rg, specs = ~ drug:age:time, type = \"response\")\\n\\nHowever, I cannot figure out how to back-transform the data CLR transformed.\\nAny idea how could I achieve the back-transformation within emmeans?\\nThank you\\n'"
      ]
     },
     "execution_count": 62,
     "metadata": {},
     "output_type": "execute_result"
    }
   ],
   "source": [
    "BeautifulSoup(df[\"Body\"][0]).get_text()"
   ]
  },
  {
   "cell_type": "code",
   "execution_count": 63,
   "metadata": {},
   "outputs": [],
   "source": [
    "def transform(c) :\n",
    "    i=0\n",
    "    a = ''\n",
    "    while i<len(c)-1 : \n",
    "        if c[i] == '\\n':\n",
    "            pass\n",
    "        else : a+=c[i]\n",
    "        i+=1\n",
    "    return a"
   ]
  },
  {
   "cell_type": "code",
   "execution_count": 64,
   "metadata": {},
   "outputs": [
    {
     "data": {
      "text/plain": [
       "'I have a set of data that I am transforming using the clr functionlibrary(compositions)clr(my_data)Now I used lmer to build mixed effect linear models and I am extracting the estimated means and the contrasts using emmeans. I am aware of the options that can be used to back-transform the datae.g.  model.rg <- update(ref_grid(model), tran =  \"asin.sqrt\")  emm1<-emmeans(model.rg, specs = ~ drug:age:time, type = \"response\")However, I cannot figure out how to back-transform the data CLR transformed.Any idea how could I achieve the back-transformation within emmeans?Thank you'"
      ]
     },
     "execution_count": 64,
     "metadata": {},
     "output_type": "execute_result"
    }
   ],
   "source": [
    "transform(BeautifulSoup(df[\"Body\"][0]).get_text())"
   ]
  },
  {
   "cell_type": "code",
   "execution_count": 66,
   "metadata": {},
   "outputs": [],
   "source": [
    "df[\"Body\"] = [transform(BeautifulSoup(df[\"Body\"][i]).get_text()) for i in range(df.shape[0])]"
   ]
  },
  {
   "cell_type": "code",
   "execution_count": 67,
   "metadata": {},
   "outputs": [],
   "source": [
    "from string import punctuation\n",
    "\n",
    "def remove_punctuation(document):\n",
    "\n",
    "    no_punct = ''.join([character for character in document if character not in punctuation])\n",
    "    \n",
    "    return no_punct"
   ]
  },
  {
   "cell_type": "code",
   "execution_count": 68,
   "metadata": {},
   "outputs": [],
   "source": [
    "def transform_df(df,cols) :\n",
    "    for col in cols :\n",
    "        text = df[col]\n",
    "        text_lower = text.str.lower()\n",
    "        text_no_punc = text_lower.apply(remove_punctuation)\n",
    "        df[\"new_\"+col] = text_no_punc\n",
    "    return df"
   ]
  },
  {
   "cell_type": "code",
   "execution_count": 69,
   "metadata": {},
   "outputs": [],
   "source": [
    "df_transform = transform_df(df,[\"Body\",\"Title\",\"Tags\"])"
   ]
  },
  {
   "cell_type": "code",
   "execution_count": 70,
   "metadata": {},
   "outputs": [
    {
     "name": "stdout",
     "output_type": "stream",
     "text": [
      "<class 'pandas.core.frame.DataFrame'>\n",
      "RangeIndex: 27496 entries, 0 to 27495\n",
      "Data columns (total 8 columns):\n",
      " #   Column     Non-Null Count  Dtype \n",
      "---  ------     --------------  ----- \n",
      " 0   Id         27496 non-null  int64 \n",
      " 1   Score      27496 non-null  int64 \n",
      " 2   Body       27496 non-null  object\n",
      " 3   Title      27496 non-null  object\n",
      " 4   Tags       27496 non-null  object\n",
      " 5   new_Body   27496 non-null  object\n",
      " 6   new_Title  27496 non-null  object\n",
      " 7   new_Tags   27496 non-null  object\n",
      "dtypes: int64(2), object(6)\n",
      "memory usage: 1.7+ MB\n"
     ]
    }
   ],
   "source": [
    "df.info()"
   ]
  },
  {
   "cell_type": "code",
   "execution_count": 71,
   "metadata": {},
   "outputs": [
    {
     "data": {
      "text/html": [
       "<div>\n",
       "<style scoped>\n",
       "    .dataframe tbody tr th:only-of-type {\n",
       "        vertical-align: middle;\n",
       "    }\n",
       "\n",
       "    .dataframe tbody tr th {\n",
       "        vertical-align: top;\n",
       "    }\n",
       "\n",
       "    .dataframe thead th {\n",
       "        text-align: right;\n",
       "    }\n",
       "</style>\n",
       "<table border=\"1\" class=\"dataframe\">\n",
       "  <thead>\n",
       "    <tr style=\"text-align: right;\">\n",
       "      <th></th>\n",
       "      <th>Id</th>\n",
       "      <th>Score</th>\n",
       "      <th>Body</th>\n",
       "      <th>Title</th>\n",
       "      <th>Tags</th>\n",
       "      <th>new_Body</th>\n",
       "      <th>new_Title</th>\n",
       "      <th>new_Tags</th>\n",
       "    </tr>\n",
       "  </thead>\n",
       "  <tbody>\n",
       "    <tr>\n",
       "      <th>0</th>\n",
       "      <td>495560</td>\n",
       "      <td>1</td>\n",
       "      <td>I have a set of data that I am transforming us...</td>\n",
       "      <td>R: emmeans back tranform clr data using clrInv</td>\n",
       "      <td>&lt;r&gt;&lt;mixed-model&gt;&lt;linear&gt;&lt;lsmeans&gt;</td>\n",
       "      <td>i have a set of data that i am transforming us...</td>\n",
       "      <td>r emmeans back tranform clr data using clrinv</td>\n",
       "      <td>rmixedmodellinearlsmeans</td>\n",
       "    </tr>\n",
       "    <tr>\n",
       "      <th>1</th>\n",
       "      <td>489896</td>\n",
       "      <td>0</td>\n",
       "      <td>We are sending a one bit message to someone.  ...</td>\n",
       "      <td>Trying to determine the failure rate of redund...</td>\n",
       "      <td>&lt;probability&gt;&lt;python&gt;</td>\n",
       "      <td>we are sending a one bit message to someone  t...</td>\n",
       "      <td>trying to determine the failure rate of redund...</td>\n",
       "      <td>probabilitypython</td>\n",
       "    </tr>\n",
       "    <tr>\n",
       "      <th>2</th>\n",
       "      <td>497951</td>\n",
       "      <td>2</td>\n",
       "      <td>I am aware that there is a similar post: Vecto...</td>\n",
       "      <td>How to derive categorical cross entropy update...</td>\n",
       "      <td>&lt;logistic&gt;&lt;cross-entropy&gt;</td>\n",
       "      <td>i am aware that there is a similar post vector...</td>\n",
       "      <td>how to derive categorical cross entropy update...</td>\n",
       "      <td>logisticcrossentropy</td>\n",
       "    </tr>\n",
       "    <tr>\n",
       "      <th>3</th>\n",
       "      <td>478542</td>\n",
       "      <td>2</td>\n",
       "      <td>I have a Poisson distributed glm where I have ...</td>\n",
       "      <td>Learning more about glm parameters, how to dig...</td>\n",
       "      <td>&lt;generalized-linear-model&gt;&lt;interpretation&gt;</td>\n",
       "      <td>i have a poisson distributed glm where i have ...</td>\n",
       "      <td>learning more about glm parameters how to dig ...</td>\n",
       "      <td>generalizedlinearmodelinterpretation</td>\n",
       "    </tr>\n",
       "    <tr>\n",
       "      <th>4</th>\n",
       "      <td>458388</td>\n",
       "      <td>0</td>\n",
       "      <td>1) how do i decide which transformation or sca...</td>\n",
       "      <td>Is there I guide to decide which transformatio...</td>\n",
       "      <td>&lt;python&gt;&lt;data-transformation&gt;&lt;dataset&gt;&lt;feature...</td>\n",
       "      <td>1 how do i decide which transformation or scal...</td>\n",
       "      <td>is there i guide to decide which transformatio...</td>\n",
       "      <td>pythondatatransformationdatasetfeatureengineer...</td>\n",
       "    </tr>\n",
       "    <tr>\n",
       "      <th>...</th>\n",
       "      <td>...</td>\n",
       "      <td>...</td>\n",
       "      <td>...</td>\n",
       "      <td>...</td>\n",
       "      <td>...</td>\n",
       "      <td>...</td>\n",
       "      <td>...</td>\n",
       "      <td>...</td>\n",
       "    </tr>\n",
       "    <tr>\n",
       "      <th>27491</th>\n",
       "      <td>450701</td>\n",
       "      <td>0</td>\n",
       "      <td>My data is of the form $(x,y)\\in\\mathbb{R}^{20...</td>\n",
       "      <td>Visualising high dimensional data</td>\n",
       "      <td>&lt;r&gt;&lt;data-visualization&gt;&lt;ggplot2&gt;</td>\n",
       "      <td>my data is of the form xyinmathbbr20timesmathb...</td>\n",
       "      <td>visualising high dimensional data</td>\n",
       "      <td>rdatavisualizationggplot2</td>\n",
       "    </tr>\n",
       "    <tr>\n",
       "      <th>27492</th>\n",
       "      <td>481194</td>\n",
       "      <td>1</td>\n",
       "      <td>I noticed the term ANOVA used in many contexts...</td>\n",
       "      <td>Is the analysis of residual variance still ANO...</td>\n",
       "      <td>&lt;regression&gt;&lt;anova&gt;&lt;generalized-linear-model&gt;&lt;...</td>\n",
       "      <td>i noticed the term anova used in many contexts...</td>\n",
       "      <td>is the analysis of residual variance still ano...</td>\n",
       "      <td>regressionanovageneralizedlinearmodelmodelingg...</td>\n",
       "    </tr>\n",
       "    <tr>\n",
       "      <th>27493</th>\n",
       "      <td>492163</td>\n",
       "      <td>3</td>\n",
       "      <td>I'm trying to do logistic regression, but I ca...</td>\n",
       "      <td>Handling missing data in logistic regression</td>\n",
       "      <td>&lt;r&gt;&lt;regression&gt;&lt;logistic&gt;&lt;missing-data&gt;&lt;regres...</td>\n",
       "      <td>im trying to do logistic regression but i cant...</td>\n",
       "      <td>handling missing data in logistic regression</td>\n",
       "      <td>rregressionlogisticmissingdataregressionstrate...</td>\n",
       "    </tr>\n",
       "    <tr>\n",
       "      <th>27494</th>\n",
       "      <td>451444</td>\n",
       "      <td>2</td>\n",
       "      <td>Consider the following experimental design wit...</td>\n",
       "      <td>Mixed models: How to treat random factors that...</td>\n",
       "      <td>&lt;r&gt;&lt;mixed-model&gt;&lt;lme4-nlme&gt;</td>\n",
       "      <td>consider the following experimental design wit...</td>\n",
       "      <td>mixed models how to treat random factors that ...</td>\n",
       "      <td>rmixedmodellme4nlme</td>\n",
       "    </tr>\n",
       "    <tr>\n",
       "      <th>27495</th>\n",
       "      <td>460905</td>\n",
       "      <td>17</td>\n",
       "      <td>I am constructing different configurations of ...</td>\n",
       "      <td>Data partitioning for spatial data</td>\n",
       "      <td>&lt;machine-learning&gt;&lt;random-forest&gt;&lt;spatial&gt;&lt;par...</td>\n",
       "      <td>i am constructing different configurations of ...</td>\n",
       "      <td>data partitioning for spatial data</td>\n",
       "      <td>machinelearningrandomforestspatialpartitioning...</td>\n",
       "    </tr>\n",
       "  </tbody>\n",
       "</table>\n",
       "<p>27496 rows × 8 columns</p>\n",
       "</div>"
      ],
      "text/plain": [
       "           Id  Score                                               Body  \\\n",
       "0      495560      1  I have a set of data that I am transforming us...   \n",
       "1      489896      0  We are sending a one bit message to someone.  ...   \n",
       "2      497951      2  I am aware that there is a similar post: Vecto...   \n",
       "3      478542      2  I have a Poisson distributed glm where I have ...   \n",
       "4      458388      0  1) how do i decide which transformation or sca...   \n",
       "...       ...    ...                                                ...   \n",
       "27491  450701      0  My data is of the form $(x,y)\\in\\mathbb{R}^{20...   \n",
       "27492  481194      1  I noticed the term ANOVA used in many contexts...   \n",
       "27493  492163      3  I'm trying to do logistic regression, but I ca...   \n",
       "27494  451444      2  Consider the following experimental design wit...   \n",
       "27495  460905     17  I am constructing different configurations of ...   \n",
       "\n",
       "                                                   Title  \\\n",
       "0         R: emmeans back tranform clr data using clrInv   \n",
       "1      Trying to determine the failure rate of redund...   \n",
       "2      How to derive categorical cross entropy update...   \n",
       "3      Learning more about glm parameters, how to dig...   \n",
       "4      Is there I guide to decide which transformatio...   \n",
       "...                                                  ...   \n",
       "27491                  Visualising high dimensional data   \n",
       "27492  Is the analysis of residual variance still ANO...   \n",
       "27493       Handling missing data in logistic regression   \n",
       "27494  Mixed models: How to treat random factors that...   \n",
       "27495                 Data partitioning for spatial data   \n",
       "\n",
       "                                                    Tags  \\\n",
       "0                      <r><mixed-model><linear><lsmeans>   \n",
       "1                                  <probability><python>   \n",
       "2                              <logistic><cross-entropy>   \n",
       "3             <generalized-linear-model><interpretation>   \n",
       "4      <python><data-transformation><dataset><feature...   \n",
       "...                                                  ...   \n",
       "27491                   <r><data-visualization><ggplot2>   \n",
       "27492  <regression><anova><generalized-linear-model><...   \n",
       "27493  <r><regression><logistic><missing-data><regres...   \n",
       "27494                        <r><mixed-model><lme4-nlme>   \n",
       "27495  <machine-learning><random-forest><spatial><par...   \n",
       "\n",
       "                                                new_Body  \\\n",
       "0      i have a set of data that i am transforming us...   \n",
       "1      we are sending a one bit message to someone  t...   \n",
       "2      i am aware that there is a similar post vector...   \n",
       "3      i have a poisson distributed glm where i have ...   \n",
       "4      1 how do i decide which transformation or scal...   \n",
       "...                                                  ...   \n",
       "27491  my data is of the form xyinmathbbr20timesmathb...   \n",
       "27492  i noticed the term anova used in many contexts...   \n",
       "27493  im trying to do logistic regression but i cant...   \n",
       "27494  consider the following experimental design wit...   \n",
       "27495  i am constructing different configurations of ...   \n",
       "\n",
       "                                               new_Title  \\\n",
       "0          r emmeans back tranform clr data using clrinv   \n",
       "1      trying to determine the failure rate of redund...   \n",
       "2      how to derive categorical cross entropy update...   \n",
       "3      learning more about glm parameters how to dig ...   \n",
       "4      is there i guide to decide which transformatio...   \n",
       "...                                                  ...   \n",
       "27491                  visualising high dimensional data   \n",
       "27492  is the analysis of residual variance still ano...   \n",
       "27493       handling missing data in logistic regression   \n",
       "27494  mixed models how to treat random factors that ...   \n",
       "27495                 data partitioning for spatial data   \n",
       "\n",
       "                                                new_Tags  \n",
       "0                               rmixedmodellinearlsmeans  \n",
       "1                                      probabilitypython  \n",
       "2                                   logisticcrossentropy  \n",
       "3                   generalizedlinearmodelinterpretation  \n",
       "4      pythondatatransformationdatasetfeatureengineer...  \n",
       "...                                                  ...  \n",
       "27491                          rdatavisualizationggplot2  \n",
       "27492  regressionanovageneralizedlinearmodelmodelingg...  \n",
       "27493  rregressionlogisticmissingdataregressionstrate...  \n",
       "27494                                rmixedmodellme4nlme  \n",
       "27495  machinelearningrandomforestspatialpartitioning...  \n",
       "\n",
       "[27496 rows x 8 columns]"
      ]
     },
     "execution_count": 71,
     "metadata": {},
     "output_type": "execute_result"
    }
   ],
   "source": [
    "df"
   ]
  },
  {
   "cell_type": "markdown",
   "metadata": {},
   "source": [
    "We can see that in the Tags removing everything directly is not a good idea.\n",
    "We will first replace '><' by ' ' and then remove all punctuation."
   ]
  },
  {
   "cell_type": "code",
   "execution_count": 72,
   "metadata": {},
   "outputs": [],
   "source": [
    "def add_space(c) :\n",
    "    n = len(c)\n",
    "    i=0\n",
    "    a=''\n",
    "    while i <len(c)-1 :\n",
    "        if c[i:i+2] == '><' :\n",
    "            a+=' '\n",
    "            i+=2\n",
    "        else : \n",
    "            a+=c[i]\n",
    "            i+=1\n",
    "    return a\n",
    "\n",
    "        "
   ]
  },
  {
   "cell_type": "code",
   "execution_count": 74,
   "metadata": {},
   "outputs": [],
   "source": [
    "df[\"new_Tags\"] = [add_space(df[\"Tags\"][i]) for i in range(df.shape[0])]\n",
    "df[\"new_Tags\"] = df[\"new_Tags\"].apply(remove_punctuation)"
   ]
  },
  {
   "cell_type": "code",
   "execution_count": 75,
   "metadata": {},
   "outputs": [
    {
     "data": {
      "text/html": [
       "<div>\n",
       "<style scoped>\n",
       "    .dataframe tbody tr th:only-of-type {\n",
       "        vertical-align: middle;\n",
       "    }\n",
       "\n",
       "    .dataframe tbody tr th {\n",
       "        vertical-align: top;\n",
       "    }\n",
       "\n",
       "    .dataframe thead th {\n",
       "        text-align: right;\n",
       "    }\n",
       "</style>\n",
       "<table border=\"1\" class=\"dataframe\">\n",
       "  <thead>\n",
       "    <tr style=\"text-align: right;\">\n",
       "      <th></th>\n",
       "      <th>Id</th>\n",
       "      <th>Score</th>\n",
       "      <th>Body</th>\n",
       "      <th>Title</th>\n",
       "      <th>Tags</th>\n",
       "      <th>new_Body</th>\n",
       "      <th>new_Title</th>\n",
       "      <th>new_Tags</th>\n",
       "    </tr>\n",
       "  </thead>\n",
       "  <tbody>\n",
       "    <tr>\n",
       "      <th>0</th>\n",
       "      <td>495560</td>\n",
       "      <td>1</td>\n",
       "      <td>I have a set of data that I am transforming us...</td>\n",
       "      <td>R: emmeans back tranform clr data using clrInv</td>\n",
       "      <td>&lt;r&gt;&lt;mixed-model&gt;&lt;linear&gt;&lt;lsmeans&gt;</td>\n",
       "      <td>i have a set of data that i am transforming us...</td>\n",
       "      <td>r emmeans back tranform clr data using clrinv</td>\n",
       "      <td>r mixedmodel linear lsmeans</td>\n",
       "    </tr>\n",
       "    <tr>\n",
       "      <th>1</th>\n",
       "      <td>489896</td>\n",
       "      <td>0</td>\n",
       "      <td>We are sending a one bit message to someone.  ...</td>\n",
       "      <td>Trying to determine the failure rate of redund...</td>\n",
       "      <td>&lt;probability&gt;&lt;python&gt;</td>\n",
       "      <td>we are sending a one bit message to someone  t...</td>\n",
       "      <td>trying to determine the failure rate of redund...</td>\n",
       "      <td>probability python</td>\n",
       "    </tr>\n",
       "    <tr>\n",
       "      <th>2</th>\n",
       "      <td>497951</td>\n",
       "      <td>2</td>\n",
       "      <td>I am aware that there is a similar post: Vecto...</td>\n",
       "      <td>How to derive categorical cross entropy update...</td>\n",
       "      <td>&lt;logistic&gt;&lt;cross-entropy&gt;</td>\n",
       "      <td>i am aware that there is a similar post vector...</td>\n",
       "      <td>how to derive categorical cross entropy update...</td>\n",
       "      <td>logistic crossentropy</td>\n",
       "    </tr>\n",
       "    <tr>\n",
       "      <th>3</th>\n",
       "      <td>478542</td>\n",
       "      <td>2</td>\n",
       "      <td>I have a Poisson distributed glm where I have ...</td>\n",
       "      <td>Learning more about glm parameters, how to dig...</td>\n",
       "      <td>&lt;generalized-linear-model&gt;&lt;interpretation&gt;</td>\n",
       "      <td>i have a poisson distributed glm where i have ...</td>\n",
       "      <td>learning more about glm parameters how to dig ...</td>\n",
       "      <td>generalizedlinearmodel interpretation</td>\n",
       "    </tr>\n",
       "    <tr>\n",
       "      <th>4</th>\n",
       "      <td>458388</td>\n",
       "      <td>0</td>\n",
       "      <td>1) how do i decide which transformation or sca...</td>\n",
       "      <td>Is there I guide to decide which transformatio...</td>\n",
       "      <td>&lt;python&gt;&lt;data-transformation&gt;&lt;dataset&gt;&lt;feature...</td>\n",
       "      <td>1 how do i decide which transformation or scal...</td>\n",
       "      <td>is there i guide to decide which transformatio...</td>\n",
       "      <td>python datatransformation dataset featureengin...</td>\n",
       "    </tr>\n",
       "    <tr>\n",
       "      <th>...</th>\n",
       "      <td>...</td>\n",
       "      <td>...</td>\n",
       "      <td>...</td>\n",
       "      <td>...</td>\n",
       "      <td>...</td>\n",
       "      <td>...</td>\n",
       "      <td>...</td>\n",
       "      <td>...</td>\n",
       "    </tr>\n",
       "    <tr>\n",
       "      <th>27491</th>\n",
       "      <td>450701</td>\n",
       "      <td>0</td>\n",
       "      <td>My data is of the form $(x,y)\\in\\mathbb{R}^{20...</td>\n",
       "      <td>Visualising high dimensional data</td>\n",
       "      <td>&lt;r&gt;&lt;data-visualization&gt;&lt;ggplot2&gt;</td>\n",
       "      <td>my data is of the form xyinmathbbr20timesmathb...</td>\n",
       "      <td>visualising high dimensional data</td>\n",
       "      <td>r datavisualization ggplot2</td>\n",
       "    </tr>\n",
       "    <tr>\n",
       "      <th>27492</th>\n",
       "      <td>481194</td>\n",
       "      <td>1</td>\n",
       "      <td>I noticed the term ANOVA used in many contexts...</td>\n",
       "      <td>Is the analysis of residual variance still ANO...</td>\n",
       "      <td>&lt;regression&gt;&lt;anova&gt;&lt;generalized-linear-model&gt;&lt;...</td>\n",
       "      <td>i noticed the term anova used in many contexts...</td>\n",
       "      <td>is the analysis of residual variance still ano...</td>\n",
       "      <td>regression anova generalizedlinearmodel modeli...</td>\n",
       "    </tr>\n",
       "    <tr>\n",
       "      <th>27493</th>\n",
       "      <td>492163</td>\n",
       "      <td>3</td>\n",
       "      <td>I'm trying to do logistic regression, but I ca...</td>\n",
       "      <td>Handling missing data in logistic regression</td>\n",
       "      <td>&lt;r&gt;&lt;regression&gt;&lt;logistic&gt;&lt;missing-data&gt;&lt;regres...</td>\n",
       "      <td>im trying to do logistic regression but i cant...</td>\n",
       "      <td>handling missing data in logistic regression</td>\n",
       "      <td>r regression logistic missingdata regressionst...</td>\n",
       "    </tr>\n",
       "    <tr>\n",
       "      <th>27494</th>\n",
       "      <td>451444</td>\n",
       "      <td>2</td>\n",
       "      <td>Consider the following experimental design wit...</td>\n",
       "      <td>Mixed models: How to treat random factors that...</td>\n",
       "      <td>&lt;r&gt;&lt;mixed-model&gt;&lt;lme4-nlme&gt;</td>\n",
       "      <td>consider the following experimental design wit...</td>\n",
       "      <td>mixed models how to treat random factors that ...</td>\n",
       "      <td>r mixedmodel lme4nlme</td>\n",
       "    </tr>\n",
       "    <tr>\n",
       "      <th>27495</th>\n",
       "      <td>460905</td>\n",
       "      <td>17</td>\n",
       "      <td>I am constructing different configurations of ...</td>\n",
       "      <td>Data partitioning for spatial data</td>\n",
       "      <td>&lt;machine-learning&gt;&lt;random-forest&gt;&lt;spatial&gt;&lt;par...</td>\n",
       "      <td>i am constructing different configurations of ...</td>\n",
       "      <td>data partitioning for spatial data</td>\n",
       "      <td>machinelearning randomforest spatial partition...</td>\n",
       "    </tr>\n",
       "  </tbody>\n",
       "</table>\n",
       "<p>27496 rows × 8 columns</p>\n",
       "</div>"
      ],
      "text/plain": [
       "           Id  Score                                               Body  \\\n",
       "0      495560      1  I have a set of data that I am transforming us...   \n",
       "1      489896      0  We are sending a one bit message to someone.  ...   \n",
       "2      497951      2  I am aware that there is a similar post: Vecto...   \n",
       "3      478542      2  I have a Poisson distributed glm where I have ...   \n",
       "4      458388      0  1) how do i decide which transformation or sca...   \n",
       "...       ...    ...                                                ...   \n",
       "27491  450701      0  My data is of the form $(x,y)\\in\\mathbb{R}^{20...   \n",
       "27492  481194      1  I noticed the term ANOVA used in many contexts...   \n",
       "27493  492163      3  I'm trying to do logistic regression, but I ca...   \n",
       "27494  451444      2  Consider the following experimental design wit...   \n",
       "27495  460905     17  I am constructing different configurations of ...   \n",
       "\n",
       "                                                   Title  \\\n",
       "0         R: emmeans back tranform clr data using clrInv   \n",
       "1      Trying to determine the failure rate of redund...   \n",
       "2      How to derive categorical cross entropy update...   \n",
       "3      Learning more about glm parameters, how to dig...   \n",
       "4      Is there I guide to decide which transformatio...   \n",
       "...                                                  ...   \n",
       "27491                  Visualising high dimensional data   \n",
       "27492  Is the analysis of residual variance still ANO...   \n",
       "27493       Handling missing data in logistic regression   \n",
       "27494  Mixed models: How to treat random factors that...   \n",
       "27495                 Data partitioning for spatial data   \n",
       "\n",
       "                                                    Tags  \\\n",
       "0                      <r><mixed-model><linear><lsmeans>   \n",
       "1                                  <probability><python>   \n",
       "2                              <logistic><cross-entropy>   \n",
       "3             <generalized-linear-model><interpretation>   \n",
       "4      <python><data-transformation><dataset><feature...   \n",
       "...                                                  ...   \n",
       "27491                   <r><data-visualization><ggplot2>   \n",
       "27492  <regression><anova><generalized-linear-model><...   \n",
       "27493  <r><regression><logistic><missing-data><regres...   \n",
       "27494                        <r><mixed-model><lme4-nlme>   \n",
       "27495  <machine-learning><random-forest><spatial><par...   \n",
       "\n",
       "                                                new_Body  \\\n",
       "0      i have a set of data that i am transforming us...   \n",
       "1      we are sending a one bit message to someone  t...   \n",
       "2      i am aware that there is a similar post vector...   \n",
       "3      i have a poisson distributed glm where i have ...   \n",
       "4      1 how do i decide which transformation or scal...   \n",
       "...                                                  ...   \n",
       "27491  my data is of the form xyinmathbbr20timesmathb...   \n",
       "27492  i noticed the term anova used in many contexts...   \n",
       "27493  im trying to do logistic regression but i cant...   \n",
       "27494  consider the following experimental design wit...   \n",
       "27495  i am constructing different configurations of ...   \n",
       "\n",
       "                                               new_Title  \\\n",
       "0          r emmeans back tranform clr data using clrinv   \n",
       "1      trying to determine the failure rate of redund...   \n",
       "2      how to derive categorical cross entropy update...   \n",
       "3      learning more about glm parameters how to dig ...   \n",
       "4      is there i guide to decide which transformatio...   \n",
       "...                                                  ...   \n",
       "27491                  visualising high dimensional data   \n",
       "27492  is the analysis of residual variance still ano...   \n",
       "27493       handling missing data in logistic regression   \n",
       "27494  mixed models how to treat random factors that ...   \n",
       "27495                 data partitioning for spatial data   \n",
       "\n",
       "                                                new_Tags  \n",
       "0                            r mixedmodel linear lsmeans  \n",
       "1                                     probability python  \n",
       "2                                  logistic crossentropy  \n",
       "3                  generalizedlinearmodel interpretation  \n",
       "4      python datatransformation dataset featureengin...  \n",
       "...                                                  ...  \n",
       "27491                        r datavisualization ggplot2  \n",
       "27492  regression anova generalizedlinearmodel modeli...  \n",
       "27493  r regression logistic missingdata regressionst...  \n",
       "27494                              r mixedmodel lme4nlme  \n",
       "27495  machinelearning randomforest spatial partition...  \n",
       "\n",
       "[27496 rows x 8 columns]"
      ]
     },
     "execution_count": 75,
     "metadata": {},
     "output_type": "execute_result"
    }
   ],
   "source": [
    "df"
   ]
  },
  {
   "cell_type": "markdown",
   "metadata": {},
   "source": [
    "It is much better now"
   ]
  },
  {
   "cell_type": "code",
   "execution_count": 76,
   "metadata": {},
   "outputs": [
    {
     "name": "stderr",
     "output_type": "stream",
     "text": [
      "[nltk_data] Downloading package punkt to\n",
      "[nltk_data]     C:\\Users\\minon\\AppData\\Roaming\\nltk_data...\n",
      "[nltk_data]   Package punkt is already up-to-date!\n"
     ]
    },
    {
     "data": {
      "text/plain": [
       "True"
      ]
     },
     "execution_count": 76,
     "metadata": {},
     "output_type": "execute_result"
    }
   ],
   "source": [
    "import nltk\n",
    "nltk.download('punkt')"
   ]
  },
  {
   "cell_type": "code",
   "execution_count": 77,
   "metadata": {},
   "outputs": [],
   "source": [
    "from nltk.tokenize import word_tokenize\n",
    "\n",
    "cols = [\"new_Title\",\"new_Body\",\"new_Tags\"]\n",
    "for col in cols :\n",
    "    df[col] = df[col].apply(word_tokenize)\n",
    "    \n"
   ]
  },
  {
   "cell_type": "code",
   "execution_count": 78,
   "metadata": {},
   "outputs": [],
   "source": [
    "from nltk.corpus import stopwords\n",
    "\n",
    "stop_words = set(stopwords.words('english'))\n"
   ]
  },
  {
   "cell_type": "code",
   "execution_count": 79,
   "metadata": {},
   "outputs": [],
   "source": [
    "def remove_stopwords(document):\n",
    "    \n",
    "    words = [word for word in document if not word in stop_words]\n",
    "    \n",
    "    return words"
   ]
  },
  {
   "cell_type": "code",
   "execution_count": 80,
   "metadata": {},
   "outputs": [],
   "source": [
    "for col in cols :\n",
    "    df[col] = df[col].apply(remove_stopwords)\n"
   ]
  },
  {
   "cell_type": "code",
   "execution_count": 81,
   "metadata": {},
   "outputs": [],
   "source": [
    "from nltk.stem import PorterStemmer\n",
    "\n",
    "porter = PorterStemmer()\n",
    "\n",
    "def stemmer(document):\n",
    "    \n",
    "    stemmed_document = [porter.stem(word) for word in document]\n",
    "    \n",
    "    return stemmed_document"
   ]
  },
  {
   "cell_type": "code",
   "execution_count": 82,
   "metadata": {},
   "outputs": [],
   "source": [
    "for col in cols :\n",
    "    df[col] = df[col].apply(stemmer)\n"
   ]
  },
  {
   "cell_type": "code",
   "execution_count": 83,
   "metadata": {},
   "outputs": [
    {
     "data": {
      "text/html": [
       "<div>\n",
       "<style scoped>\n",
       "    .dataframe tbody tr th:only-of-type {\n",
       "        vertical-align: middle;\n",
       "    }\n",
       "\n",
       "    .dataframe tbody tr th {\n",
       "        vertical-align: top;\n",
       "    }\n",
       "\n",
       "    .dataframe thead th {\n",
       "        text-align: right;\n",
       "    }\n",
       "</style>\n",
       "<table border=\"1\" class=\"dataframe\">\n",
       "  <thead>\n",
       "    <tr style=\"text-align: right;\">\n",
       "      <th></th>\n",
       "      <th>Id</th>\n",
       "      <th>Score</th>\n",
       "      <th>Body</th>\n",
       "      <th>Title</th>\n",
       "      <th>Tags</th>\n",
       "      <th>new_Body</th>\n",
       "      <th>new_Title</th>\n",
       "      <th>new_Tags</th>\n",
       "    </tr>\n",
       "  </thead>\n",
       "  <tbody>\n",
       "    <tr>\n",
       "      <th>0</th>\n",
       "      <td>495560</td>\n",
       "      <td>1</td>\n",
       "      <td>I have a set of data that I am transforming us...</td>\n",
       "      <td>R: emmeans back tranform clr data using clrInv</td>\n",
       "      <td>&lt;r&gt;&lt;mixed-model&gt;&lt;linear&gt;&lt;lsmeans&gt;</td>\n",
       "      <td>[set, data, transform, use, clr, functionlibra...</td>\n",
       "      <td>[r, emmean, back, tranform, clr, data, use, cl...</td>\n",
       "      <td>[r, mixedmodel, linear, lsmean]</td>\n",
       "    </tr>\n",
       "    <tr>\n",
       "      <th>1</th>\n",
       "      <td>489896</td>\n",
       "      <td>0</td>\n",
       "      <td>We are sending a one bit message to someone.  ...</td>\n",
       "      <td>Trying to determine the failure rate of redund...</td>\n",
       "      <td>&lt;probability&gt;&lt;python&gt;</td>\n",
       "      <td>[send, one, bit, messag, someon, 60, chanc, me...</td>\n",
       "      <td>[tri, determin, failur, rate, redundantli, sen...</td>\n",
       "      <td>[probabl, python]</td>\n",
       "    </tr>\n",
       "    <tr>\n",
       "      <th>2</th>\n",
       "      <td>497951</td>\n",
       "      <td>2</td>\n",
       "      <td>I am aware that there is a similar post: Vecto...</td>\n",
       "      <td>How to derive categorical cross entropy update...</td>\n",
       "      <td>&lt;logistic&gt;&lt;cross-entropy&gt;</td>\n",
       "      <td>[awar, similar, post, vector, cross, entropi, ...</td>\n",
       "      <td>[deriv, categor, cross, entropi, updat, rule, ...</td>\n",
       "      <td>[logist, crossentropi]</td>\n",
       "    </tr>\n",
       "    <tr>\n",
       "      <th>3</th>\n",
       "      <td>478542</td>\n",
       "      <td>2</td>\n",
       "      <td>I have a Poisson distributed glm where I have ...</td>\n",
       "      <td>Learning more about glm parameters, how to dig...</td>\n",
       "      <td>&lt;generalized-linear-model&gt;&lt;interpretation&gt;</td>\n",
       "      <td>[poisson, distribut, glm, identifi, origin, pa...</td>\n",
       "      <td>[learn, glm, paramet, dig, deeper]</td>\n",
       "      <td>[generalizedlinearmodel, interpret]</td>\n",
       "    </tr>\n",
       "    <tr>\n",
       "      <th>4</th>\n",
       "      <td>458388</td>\n",
       "      <td>0</td>\n",
       "      <td>1) how do i decide which transformation or sca...</td>\n",
       "      <td>Is there I guide to decide which transformatio...</td>\n",
       "      <td>&lt;python&gt;&lt;data-transformation&gt;&lt;dataset&gt;&lt;feature...</td>\n",
       "      <td>[1, decid, transform, scale, use, pass, data, ...</td>\n",
       "      <td>[guid, decid, transform, choos, differ, scenar...</td>\n",
       "      <td>[python, datatransform, dataset, featureengin,...</td>\n",
       "    </tr>\n",
       "  </tbody>\n",
       "</table>\n",
       "</div>"
      ],
      "text/plain": [
       "       Id  Score                                               Body  \\\n",
       "0  495560      1  I have a set of data that I am transforming us...   \n",
       "1  489896      0  We are sending a one bit message to someone.  ...   \n",
       "2  497951      2  I am aware that there is a similar post: Vecto...   \n",
       "3  478542      2  I have a Poisson distributed glm where I have ...   \n",
       "4  458388      0  1) how do i decide which transformation or sca...   \n",
       "\n",
       "                                               Title  \\\n",
       "0     R: emmeans back tranform clr data using clrInv   \n",
       "1  Trying to determine the failure rate of redund...   \n",
       "2  How to derive categorical cross entropy update...   \n",
       "3  Learning more about glm parameters, how to dig...   \n",
       "4  Is there I guide to decide which transformatio...   \n",
       "\n",
       "                                                Tags  \\\n",
       "0                  <r><mixed-model><linear><lsmeans>   \n",
       "1                              <probability><python>   \n",
       "2                          <logistic><cross-entropy>   \n",
       "3         <generalized-linear-model><interpretation>   \n",
       "4  <python><data-transformation><dataset><feature...   \n",
       "\n",
       "                                            new_Body  \\\n",
       "0  [set, data, transform, use, clr, functionlibra...   \n",
       "1  [send, one, bit, messag, someon, 60, chanc, me...   \n",
       "2  [awar, similar, post, vector, cross, entropi, ...   \n",
       "3  [poisson, distribut, glm, identifi, origin, pa...   \n",
       "4  [1, decid, transform, scale, use, pass, data, ...   \n",
       "\n",
       "                                           new_Title  \\\n",
       "0  [r, emmean, back, tranform, clr, data, use, cl...   \n",
       "1  [tri, determin, failur, rate, redundantli, sen...   \n",
       "2  [deriv, categor, cross, entropi, updat, rule, ...   \n",
       "3                 [learn, glm, paramet, dig, deeper]   \n",
       "4  [guid, decid, transform, choos, differ, scenar...   \n",
       "\n",
       "                                            new_Tags  \n",
       "0                    [r, mixedmodel, linear, lsmean]  \n",
       "1                                  [probabl, python]  \n",
       "2                             [logist, crossentropi]  \n",
       "3                [generalizedlinearmodel, interpret]  \n",
       "4  [python, datatransform, dataset, featureengin,...  "
      ]
     },
     "execution_count": 83,
     "metadata": {},
     "output_type": "execute_result"
    }
   ],
   "source": [
    "df.head()"
   ]
  },
  {
   "cell_type": "markdown",
   "metadata": {},
   "source": [
    "Detokenization"
   ]
  },
  {
   "cell_type": "code",
   "execution_count": 85,
   "metadata": {},
   "outputs": [
    {
     "name": "stdout",
     "output_type": "stream",
     "text": [
      "--------------------new_Title---------------------\n",
      "modelnew_Title      4141\n",
      "regressnew_Title    2947\n",
      "usenew_Title        2713\n",
      "variablnew_Title    2554\n",
      "datanew_Title       2549\n",
      "                    ... \n",
      "creatnew_Title       143\n",
      "withinnew_Title      142\n",
      "runnew_Title         141\n",
      "wouldnew_Title       140\n",
      "checknew_Title       138\n",
      "Length: 226, dtype: int64\n",
      "______________________________________________\n",
      "--------------------new_Body---------------------\n",
      "usenew_Body         28783\n",
      "modelnew_Body       27851\n",
      "datanew_Body        24503\n",
      "variablnew_Body     17949\n",
      "wouldnew_Body       16149\n",
      "                    ...  \n",
      "beyondnew_Body        147\n",
      "commonlinew_Body      146\n",
      "moreovnew_Body        146\n",
      "beginnnew_Body        145\n",
      "anywaynew_Body        145\n",
      "Length: 1430, dtype: int64\n",
      "______________________________________________\n",
      "--------------------new_Tags---------------------\n",
      "regressnew_Tags                      3887\n",
      "machinelearnnew_Tags                 3031\n",
      "timeserinew_Tags                     1839\n",
      "probablnew_Tags                      1679\n",
      "neuralnetworknew_Tags                1458\n",
      "                                     ... \n",
      "dimensionalityreductnew_Tags          141\n",
      "cartnew_Tags                          141\n",
      "negativebinomialdistributnew_Tags     140\n",
      "binarydatanew_Tags                    139\n",
      "ordinaldatanew_Tags                   139\n",
      "Length: 131, dtype: int64\n",
      "______________________________________________\n"
     ]
    }
   ],
   "source": [
    "from nltk.tokenize.treebank import TreebankWordDetokenizer\n",
    "from sklearn.feature_extraction.text import CountVectorizer\n",
    "import warnings\n",
    "warnings.filterwarnings('ignore')\n",
    "df_token = pd.DataFrame()    \n",
    "for col in cols :\n",
    "    text_detokenized = df[col].apply(TreebankWordDetokenizer().detokenize)\n",
    "    countvec2 = CountVectorizer(min_df=0.005)\n",
    "    sparse_dtm2 = countvec2.fit_transform(text_detokenized)\n",
    "    dtm2 = pd.DataFrame(sparse_dtm2.toarray(), columns=countvec2.get_feature_names(), index=df.index)\n",
    "    dtm2.columns = [dtm2.columns[i]+col for i in range(len(dtm2.columns))]\n",
    "    df_token[dtm2.columns] = dtm2\n",
    "    print(\"--------------------{}---------------------\".format(col))\n",
    "    print(dtm2.sum().sort_values(ascending=False))\n",
    "    print('______________________________________________')\n"
   ]
  },
  {
   "cell_type": "code",
   "execution_count": 86,
   "metadata": {},
   "outputs": [],
   "source": [
    "def is_interesting(c) :\n",
    "    return 1*(c>=1)\n",
    "\n",
    "df['Score']=df['Score'].map(is_interesting)\n"
   ]
  },
  {
   "cell_type": "code",
   "execution_count": 87,
   "metadata": {},
   "outputs": [
    {
     "data": {
      "text/plain": [
       "((19247, 1787), (8249, 1787))"
      ]
     },
     "execution_count": 87,
     "metadata": {},
     "output_type": "execute_result"
    }
   ],
   "source": [
    "from sklearn.model_selection import train_test_split\n",
    "\n",
    "y = df['Score'].astype('int32')\n",
    "X = df_token\n",
    "\n",
    "X_train, X_test, y_train, y_test = train_test_split(X, y, test_size=0.3, stratify=y, random_state=88)\n",
    "X_train.shape, X_test.shape"
   ]
  },
  {
   "cell_type": "code",
   "execution_count": 88,
   "metadata": {},
   "outputs": [
    {
     "name": "stdout",
     "output_type": "stream",
     "text": [
      "<class 'pandas.core.frame.DataFrame'>\n",
      "Int64Index: 19247 entries, 14641 to 17694\n",
      "Columns: 1787 entries, accuracinew_Title to variancnew_Tags\n",
      "dtypes: int64(1787)\n",
      "memory usage: 262.6 MB\n"
     ]
    }
   ],
   "source": [
    "X_train.info()"
   ]
  },
  {
   "cell_type": "code",
   "execution_count": 89,
   "metadata": {},
   "outputs": [
    {
     "name": "stdout",
     "output_type": "stream",
     "text": [
      "<class 'pandas.core.frame.DataFrame'>\n",
      "Int64Index: 8249 entries, 26801 to 501\n",
      "Columns: 1787 entries, accuracinew_Title to variancnew_Tags\n",
      "dtypes: int64(1787)\n",
      "memory usage: 112.5 MB\n"
     ]
    }
   ],
   "source": [
    "X_test.info()"
   ]
  },
  {
   "cell_type": "code",
   "execution_count": 90,
   "metadata": {},
   "outputs": [
    {
     "name": "stdout",
     "output_type": "stream",
     "text": [
      "ACC 0.5058970229126617\n",
      "ACC-Test 0.5058795005455207\n"
     ]
    }
   ],
   "source": [
    "b = y_train.value_counts()\n",
    "b_test = y_test.value_counts()\n",
    "print('ACC', b[0]/(b[0] + b[1]))\n",
    "print('ACC-Test', b_test[0]/(b_test[0]+b_test[1]))"
   ]
  },
  {
   "cell_type": "markdown",
   "metadata": {},
   "source": [
    "After having changed labels to only 0 and 1 we have a balanced dataset."
   ]
  },
  {
   "cell_type": "code",
   "execution_count": 91,
   "metadata": {},
   "outputs": [],
   "source": [
    "import matplotlib.pyplot as plt"
   ]
  },
  {
   "cell_type": "markdown",
   "metadata": {},
   "source": [
    "**Logistic Regression**"
   ]
  },
  {
   "cell_type": "code",
   "execution_count": 92,
   "metadata": {},
   "outputs": [
    {
     "data": {
      "text/html": [
       "<style>#sk-container-id-1 {color: black;background-color: white;}#sk-container-id-1 pre{padding: 0;}#sk-container-id-1 div.sk-toggleable {background-color: white;}#sk-container-id-1 label.sk-toggleable__label {cursor: pointer;display: block;width: 100%;margin-bottom: 0;padding: 0.3em;box-sizing: border-box;text-align: center;}#sk-container-id-1 label.sk-toggleable__label-arrow:before {content: \"▸\";float: left;margin-right: 0.25em;color: #696969;}#sk-container-id-1 label.sk-toggleable__label-arrow:hover:before {color: black;}#sk-container-id-1 div.sk-estimator:hover label.sk-toggleable__label-arrow:before {color: black;}#sk-container-id-1 div.sk-toggleable__content {max-height: 0;max-width: 0;overflow: hidden;text-align: left;background-color: #f0f8ff;}#sk-container-id-1 div.sk-toggleable__content pre {margin: 0.2em;color: black;border-radius: 0.25em;background-color: #f0f8ff;}#sk-container-id-1 input.sk-toggleable__control:checked~div.sk-toggleable__content {max-height: 200px;max-width: 100%;overflow: auto;}#sk-container-id-1 input.sk-toggleable__control:checked~label.sk-toggleable__label-arrow:before {content: \"▾\";}#sk-container-id-1 div.sk-estimator input.sk-toggleable__control:checked~label.sk-toggleable__label {background-color: #d4ebff;}#sk-container-id-1 div.sk-label input.sk-toggleable__control:checked~label.sk-toggleable__label {background-color: #d4ebff;}#sk-container-id-1 input.sk-hidden--visually {border: 0;clip: rect(1px 1px 1px 1px);clip: rect(1px, 1px, 1px, 1px);height: 1px;margin: -1px;overflow: hidden;padding: 0;position: absolute;width: 1px;}#sk-container-id-1 div.sk-estimator {font-family: monospace;background-color: #f0f8ff;border: 1px dotted black;border-radius: 0.25em;box-sizing: border-box;margin-bottom: 0.5em;}#sk-container-id-1 div.sk-estimator:hover {background-color: #d4ebff;}#sk-container-id-1 div.sk-parallel-item::after {content: \"\";width: 100%;border-bottom: 1px solid gray;flex-grow: 1;}#sk-container-id-1 div.sk-label:hover label.sk-toggleable__label {background-color: #d4ebff;}#sk-container-id-1 div.sk-serial::before {content: \"\";position: absolute;border-left: 1px solid gray;box-sizing: border-box;top: 0;bottom: 0;left: 50%;z-index: 0;}#sk-container-id-1 div.sk-serial {display: flex;flex-direction: column;align-items: center;background-color: white;padding-right: 0.2em;padding-left: 0.2em;position: relative;}#sk-container-id-1 div.sk-item {position: relative;z-index: 1;}#sk-container-id-1 div.sk-parallel {display: flex;align-items: stretch;justify-content: center;background-color: white;position: relative;}#sk-container-id-1 div.sk-item::before, #sk-container-id-1 div.sk-parallel-item::before {content: \"\";position: absolute;border-left: 1px solid gray;box-sizing: border-box;top: 0;bottom: 0;left: 50%;z-index: -1;}#sk-container-id-1 div.sk-parallel-item {display: flex;flex-direction: column;z-index: 1;position: relative;background-color: white;}#sk-container-id-1 div.sk-parallel-item:first-child::after {align-self: flex-end;width: 50%;}#sk-container-id-1 div.sk-parallel-item:last-child::after {align-self: flex-start;width: 50%;}#sk-container-id-1 div.sk-parallel-item:only-child::after {width: 0;}#sk-container-id-1 div.sk-dashed-wrapped {border: 1px dashed gray;margin: 0 0.4em 0.5em 0.4em;box-sizing: border-box;padding-bottom: 0.4em;background-color: white;}#sk-container-id-1 div.sk-label label {font-family: monospace;font-weight: bold;display: inline-block;line-height: 1.2em;}#sk-container-id-1 div.sk-label-container {text-align: center;}#sk-container-id-1 div.sk-container {/* jupyter's `normalize.less` sets `[hidden] { display: none; }` but bootstrap.min.css set `[hidden] { display: none !important; }` so we also need the `!important` here to be able to override the default hidden behavior on the sphinx rendered scikit-learn.org. See: https://github.com/scikit-learn/scikit-learn/issues/21755 */display: inline-block !important;position: relative;}#sk-container-id-1 div.sk-text-repr-fallback {display: none;}</style><div id=\"sk-container-id-1\" class=\"sk-top-container\"><div class=\"sk-text-repr-fallback\"><pre>LogisticRegression()</pre><b>In a Jupyter environment, please rerun this cell to show the HTML representation or trust the notebook. <br />On GitHub, the HTML representation is unable to render, please try loading this page with nbviewer.org.</b></div><div class=\"sk-container\" hidden><div class=\"sk-item\"><div class=\"sk-estimator sk-toggleable\"><input class=\"sk-toggleable__control sk-hidden--visually\" id=\"sk-estimator-id-1\" type=\"checkbox\" checked><label for=\"sk-estimator-id-1\" class=\"sk-toggleable__label sk-toggleable__label-arrow\">LogisticRegression</label><div class=\"sk-toggleable__content\"><pre>LogisticRegression()</pre></div></div></div></div></div>"
      ],
      "text/plain": [
       "LogisticRegression()"
      ]
     },
     "execution_count": 92,
     "metadata": {},
     "output_type": "execute_result"
    }
   ],
   "source": [
    "from sklearn.linear_model import LogisticRegression\n",
    "\n",
    "log_reg = LogisticRegression()\n",
    "log_reg.fit(X_train,y_train)"
   ]
  },
  {
   "cell_type": "code",
   "execution_count": 112,
   "metadata": {},
   "outputs": [
    {
     "name": "stdout",
     "output_type": "stream",
     "text": [
      "Confusion Matrix: \n",
      " [[2522 1651]\n",
      " [1931 2145]]\n",
      "\n",
      "Accuracy: 0.5657655473390714\n"
     ]
    }
   ],
   "source": [
    "from sklearn.metrics import confusion_matrix\n",
    "from sklearn.metrics import accuracy_score\n",
    "\n",
    "y_prob = log_reg.predict_proba(X_test)\n",
    "y_pred = pd.Series([1 if x > 0.5 else 0 for x in y_prob[:,1]], index=y_test.index)\n",
    "\n",
    "cm = confusion_matrix(y_test, y_pred)\n",
    "print (\"Confusion Matrix: \\n\", cm)\n",
    "print (\"\\nAccuracy:\", accuracy_score(y_test, y_pred))"
   ]
  },
  {
   "cell_type": "code",
   "execution_count": 113,
   "metadata": {},
   "outputs": [
    {
     "name": "stdout",
     "output_type": "stream",
     "text": [
      "TPR 0.565068493150685\n",
      "FPR 0.4336402425331237\n"
     ]
    }
   ],
   "source": [
    "print('TPR',cm[1][1]/(cm[1][1]+cm[0][1]))\n",
    "print('FPR',cm[1][0]/(cm[1][0]+cm[0][0]))"
   ]
  },
  {
   "cell_type": "markdown",
   "metadata": {},
   "source": [
    "**LDA**"
   ]
  },
  {
   "cell_type": "code",
   "execution_count": 94,
   "metadata": {},
   "outputs": [
    {
     "data": {
      "text/html": [
       "<style>#sk-container-id-2 {color: black;background-color: white;}#sk-container-id-2 pre{padding: 0;}#sk-container-id-2 div.sk-toggleable {background-color: white;}#sk-container-id-2 label.sk-toggleable__label {cursor: pointer;display: block;width: 100%;margin-bottom: 0;padding: 0.3em;box-sizing: border-box;text-align: center;}#sk-container-id-2 label.sk-toggleable__label-arrow:before {content: \"▸\";float: left;margin-right: 0.25em;color: #696969;}#sk-container-id-2 label.sk-toggleable__label-arrow:hover:before {color: black;}#sk-container-id-2 div.sk-estimator:hover label.sk-toggleable__label-arrow:before {color: black;}#sk-container-id-2 div.sk-toggleable__content {max-height: 0;max-width: 0;overflow: hidden;text-align: left;background-color: #f0f8ff;}#sk-container-id-2 div.sk-toggleable__content pre {margin: 0.2em;color: black;border-radius: 0.25em;background-color: #f0f8ff;}#sk-container-id-2 input.sk-toggleable__control:checked~div.sk-toggleable__content {max-height: 200px;max-width: 100%;overflow: auto;}#sk-container-id-2 input.sk-toggleable__control:checked~label.sk-toggleable__label-arrow:before {content: \"▾\";}#sk-container-id-2 div.sk-estimator input.sk-toggleable__control:checked~label.sk-toggleable__label {background-color: #d4ebff;}#sk-container-id-2 div.sk-label input.sk-toggleable__control:checked~label.sk-toggleable__label {background-color: #d4ebff;}#sk-container-id-2 input.sk-hidden--visually {border: 0;clip: rect(1px 1px 1px 1px);clip: rect(1px, 1px, 1px, 1px);height: 1px;margin: -1px;overflow: hidden;padding: 0;position: absolute;width: 1px;}#sk-container-id-2 div.sk-estimator {font-family: monospace;background-color: #f0f8ff;border: 1px dotted black;border-radius: 0.25em;box-sizing: border-box;margin-bottom: 0.5em;}#sk-container-id-2 div.sk-estimator:hover {background-color: #d4ebff;}#sk-container-id-2 div.sk-parallel-item::after {content: \"\";width: 100%;border-bottom: 1px solid gray;flex-grow: 1;}#sk-container-id-2 div.sk-label:hover label.sk-toggleable__label {background-color: #d4ebff;}#sk-container-id-2 div.sk-serial::before {content: \"\";position: absolute;border-left: 1px solid gray;box-sizing: border-box;top: 0;bottom: 0;left: 50%;z-index: 0;}#sk-container-id-2 div.sk-serial {display: flex;flex-direction: column;align-items: center;background-color: white;padding-right: 0.2em;padding-left: 0.2em;position: relative;}#sk-container-id-2 div.sk-item {position: relative;z-index: 1;}#sk-container-id-2 div.sk-parallel {display: flex;align-items: stretch;justify-content: center;background-color: white;position: relative;}#sk-container-id-2 div.sk-item::before, #sk-container-id-2 div.sk-parallel-item::before {content: \"\";position: absolute;border-left: 1px solid gray;box-sizing: border-box;top: 0;bottom: 0;left: 50%;z-index: -1;}#sk-container-id-2 div.sk-parallel-item {display: flex;flex-direction: column;z-index: 1;position: relative;background-color: white;}#sk-container-id-2 div.sk-parallel-item:first-child::after {align-self: flex-end;width: 50%;}#sk-container-id-2 div.sk-parallel-item:last-child::after {align-self: flex-start;width: 50%;}#sk-container-id-2 div.sk-parallel-item:only-child::after {width: 0;}#sk-container-id-2 div.sk-dashed-wrapped {border: 1px dashed gray;margin: 0 0.4em 0.5em 0.4em;box-sizing: border-box;padding-bottom: 0.4em;background-color: white;}#sk-container-id-2 div.sk-label label {font-family: monospace;font-weight: bold;display: inline-block;line-height: 1.2em;}#sk-container-id-2 div.sk-label-container {text-align: center;}#sk-container-id-2 div.sk-container {/* jupyter's `normalize.less` sets `[hidden] { display: none; }` but bootstrap.min.css set `[hidden] { display: none !important; }` so we also need the `!important` here to be able to override the default hidden behavior on the sphinx rendered scikit-learn.org. See: https://github.com/scikit-learn/scikit-learn/issues/21755 */display: inline-block !important;position: relative;}#sk-container-id-2 div.sk-text-repr-fallback {display: none;}</style><div id=\"sk-container-id-2\" class=\"sk-top-container\"><div class=\"sk-text-repr-fallback\"><pre>LinearDiscriminantAnalysis()</pre><b>In a Jupyter environment, please rerun this cell to show the HTML representation or trust the notebook. <br />On GitHub, the HTML representation is unable to render, please try loading this page with nbviewer.org.</b></div><div class=\"sk-container\" hidden><div class=\"sk-item\"><div class=\"sk-estimator sk-toggleable\"><input class=\"sk-toggleable__control sk-hidden--visually\" id=\"sk-estimator-id-2\" type=\"checkbox\" checked><label for=\"sk-estimator-id-2\" class=\"sk-toggleable__label sk-toggleable__label-arrow\">LinearDiscriminantAnalysis</label><div class=\"sk-toggleable__content\"><pre>LinearDiscriminantAnalysis()</pre></div></div></div></div></div>"
      ],
      "text/plain": [
       "LinearDiscriminantAnalysis()"
      ]
     },
     "execution_count": 94,
     "metadata": {},
     "output_type": "execute_result"
    }
   ],
   "source": [
    "from sklearn.discriminant_analysis import LinearDiscriminantAnalysis\n",
    "\n",
    "lda = LinearDiscriminantAnalysis()\n",
    "lda.fit(X_train, y_train)"
   ]
  },
  {
   "cell_type": "code",
   "execution_count": 108,
   "metadata": {},
   "outputs": [
    {
     "name": "stdout",
     "output_type": "stream",
     "text": [
      "Confusion Matrix: \n",
      " [[2550 1623]\n",
      " [1939 2137]]\n",
      "\n",
      "Accuracy: 0.5681900836465026\n"
     ]
    }
   ],
   "source": [
    "y_prob = lda.predict_proba(X_test)\n",
    "y_pred = pd.Series([1 if x > 0.5 else 0 for x in y_prob[:,1]], index=y_test.index)\n",
    "\n",
    "cm_lda = confusion_matrix(y_test, y_pred)\n",
    "print (\"Confusion Matrix: \\n\", cm_lda)\n",
    "print (\"\\nAccuracy:\", accuracy_score(y_test, y_pred))"
   ]
  },
  {
   "cell_type": "code",
   "execution_count": 109,
   "metadata": {},
   "outputs": [
    {
     "name": "stdout",
     "output_type": "stream",
     "text": [
      "TPR 0.5683510638297873\n",
      "FPR 0.4319447538427267\n"
     ]
    }
   ],
   "source": [
    "print('TPR',cm_lda[1][1]/(cm_lda[1][1]+cm_lda[0][1]))\n",
    "print('FPR',cm_lda[1][0]/(cm_lda[1][0]+cm_lda[0][0]))"
   ]
  },
  {
   "cell_type": "markdown",
   "metadata": {},
   "source": [
    "**CART**"
   ]
  },
  {
   "cell_type": "code",
   "execution_count": 104,
   "metadata": {},
   "outputs": [],
   "source": [
    "from sklearn.model_selection import GridSearchCV\n",
    "from sklearn.tree import DecisionTreeClassifier\n",
    "\n",
    "grid_values = {'ccp_alpha': np.linspace(0.0001, 0.001, 10)}\n",
    "\n",
    "dtc = DecisionTreeClassifier(random_state=88)\n",
    "dtc_cv = GridSearchCV(dtc, param_grid=grid_values, cv=5).fit(X_train, y_train)"
   ]
  },
  {
   "cell_type": "code",
   "execution_count": 105,
   "metadata": {},
   "outputs": [
    {
     "data": {
      "image/png": "[encoded data removed]",
      "text/plain": [
       "<Figure size 576x432 with 1 Axes>"
      ]
     },
     "metadata": {
      "needs_background": "light"
     },
     "output_type": "display_data"
    },
    {
     "name": "stdout",
     "output_type": "stream",
     "text": [
      "Best ccp_alpha {'ccp_alpha': 0.0007}\n"
     ]
    }
   ],
   "source": [
    "ccp_alpha = dtc_cv.cv_results_['param_ccp_alpha'].data\n",
    "ACC_scores = dtc_cv.cv_results_['mean_test_score']\n",
    "\n",
    "plt.figure(figsize=(8, 6))\n",
    "plt.xlabel('ccp_alpha', fontsize=16)\n",
    "plt.ylabel('CV Accuracy', fontsize=16)\n",
    "plt.scatter(ccp_alpha, ACC_scores, s=3)\n",
    "plt.plot(ccp_alpha, ACC_scores, linewidth=3)\n",
    "plt.grid(True, which='both')\n",
    "\n",
    "plt.tight_layout()\n",
    "plt.show()\n",
    "\n",
    "print('Best ccp_alpha', dtc_cv.best_params_)"
   ]
  },
  {
   "cell_type": "code",
   "execution_count": 110,
   "metadata": {},
   "outputs": [
    {
     "name": "stdout",
     "output_type": "stream",
     "text": [
      "Confusion Matrix: \n",
      " [[2550 1623]\n",
      " [1939 2137]]\n",
      "\n",
      "Accuracy: 0.5504909686022548\n"
     ]
    }
   ],
   "source": [
    "y_prob = dtc_cv.predict_proba(X_test)\n",
    "y_pred = pd.Series([1 if x > 0.5 else 0 for x in y_prob[:,1]], index=y_test.index)\n",
    "\n",
    "cm_tree = confusion_matrix(y_test, y_pred)\n",
    "print (\"Confusion Matrix: \\n\", cm_lda)\n",
    "print (\"\\nAccuracy:\", accuracy_score(y_test, y_pred))"
   ]
  },
  {
   "cell_type": "code",
   "execution_count": 111,
   "metadata": {},
   "outputs": [
    {
     "name": "stdout",
     "output_type": "stream",
     "text": [
      "TPR 0.5751633986928104\n",
      "FPR 0.45992070332701257\n"
     ]
    }
   ],
   "source": [
    "print('TPR',cm_tree[1][1]/(cm_tree[1][1]+cm_tree[0][1]))\n",
    "print('FPR',cm_tree[1][0]/(cm_tree[1][0]+cm_tree[0][0]))"
   ]
  },
  {
   "cell_type": "code",
   "execution_count": 114,
   "metadata": {},
   "outputs": [],
   "source": [
    "def TPR(L) :\n",
    "    return L[1][1]/(L[1][1]+L[0][1])\n",
    "def FPR(L) :\n",
    "    return L[1][0]/(L[1][0]+L[0][0])"
   ]
  },
  {
   "cell_type": "code",
   "execution_count": 121,
   "metadata": {},
   "outputs": [],
   "source": [
    "#Bootstraping the testing set\n",
    "L_tpr_tree = []\n",
    "L_tpr_reg = []\n",
    "for i in range(100) :\n",
    "    index = np.random.choice(X_test.index, len(X_test.index), replace=True)\n",
    "    data = X_test.loc[index]\n",
    "    y_test_boot = y_test.loc[index]\n",
    "    predict_tree = dtc_cv.predict(data)\n",
    "    predict_log_reg = log_reg.predict(data)\n",
    "    cm_tree = confusion_matrix(y_test_boot,predict_tree)\n",
    "    cm_log_reg = confusion_matrix(y_test_boot,predict_log_reg)\n",
    "    tpr_tree = TPR(cm_tree)\n",
    "    tpr_log_reg = TPR(cm_log_reg)\n",
    "    fpr_tree = FPR(cm_tree)\n",
    "    fpr_log_reg = FPR(cm_log_reg)\n",
    "    L_tpr_tree.append(abs(tpr_tree))\n",
    "    L_tpr_reg.append(abs(tpr_log_reg))"
   ]
  },
  {
   "cell_type": "code",
   "execution_count": 123,
   "metadata": {},
   "outputs": [
    {
     "name": "stdout",
     "output_type": "stream",
     "text": [
      "0.5760800219603567 0.012276149003870394\n",
      "0.5657606813695771 0.007502595301404488\n"
     ]
    }
   ],
   "source": [
    "mean_tpr_tree = 1/len(L_tpr_tree)*sum(L_tpr_tree)\n",
    "mean_tpr_reg = 1/len(L_tpr_reg)*sum(L_tpr_reg)\n",
    "var_tpr_tree = sum((L_tpr_tree-mean_tpr_tree)**2)\n",
    "var_tpr_reg = sum((L_tpr_reg-mean_tpr_reg)**2)\n",
    "print(mean_tpr_tree,var_tpr_tree)\n",
    "print(mean_tpr_reg,var_tpr_reg)"
   ]
  }
 ],
 "metadata": {
  "kernelspec": {
   "display_name": "Python 3.10.6 64-bit",
   "language": "python",
   "name": "python3"
  },
  "language_info": {
   "codemirror_mode": {
    "name": "ipython",
    "version": 3
   },
   "file_extension": ".py",
   "mimetype": "text/x-python",
   "name": "python",
   "nbconvert_exporter": "python",
   "pygments_lexer": "ipython3",
   "version": "3.10.6"
  },
  "orig_nbformat": 4,
  "vscode": {
   "interpreter": {
    "hash": "27c0491bc2de4eade874e0d01d7fedd2396e409c6f5607118d2facfa41a47803"
   }
  }
 },
 "nbformat": 4,
 "nbformat_minor": 2
}
