{
 "cells": [
  {
   "cell_type": "markdown",
   "metadata": {},
   "source": [
    "# LAB 1 - INTRO TO PYTHON\n",
    "\n",
    "This lab is comprised of three parts:\n",
    "\n",
    "- 1. Introduction to Jupyter Notebooks\n",
    "\n",
    "- 2. Python Language and NumPy Library\n",
    "\n",
    "- 3. Data Manipulation with Pandas Library\n"
   ]
  },
  {
   "cell_type": "markdown",
   "metadata": {},
   "source": [
    "## 1. INTRODUCTION TO JUPYTER NOTEBOOKS\n",
    "\n",
    "Open the file \"Lab1.ipynb\"\n",
    "\n",
    "`\"File -> Open...\"` \n",
    "\n",
    "Navigate to where you saved the files you downloaded for this class and double click on the \"Lab1.ipynb\" file"
   ]
  },
  {
   "cell_type": "markdown",
   "metadata": {},
   "source": [
    "### Running notebook cells\n",
    "\n",
    "The notebook is divided into cells. Each cell can contain texts, codes or html scripts. Running a non-code cell simply advances to the next cell. Make sure to type commands always in a Code cell. You can verify this by checking the scroll-down window in the above toolbar menu.\n",
    "\n",
    "To run a code cell use `Shift + Enter` or `Ctrl + Enter`. In Mac, `Shift + Enter` or `Command + Enter`. \n",
    "\n",
    "Try running these lines:"
   ]
  },
  {
   "cell_type": "code",
   "execution_count": 1,
   "metadata": {},
   "outputs": [
    {
     "data": {
      "text/plain": [
       "48"
      ]
     },
     "execution_count": 1,
     "metadata": {},
     "output_type": "execute_result"
    }
   ],
   "source": [
    "8*6"
   ]
  },
  {
   "cell_type": "code",
   "execution_count": 2,
   "metadata": {},
   "outputs": [
    {
     "data": {
      "text/plain": [
       "65536"
      ]
     },
     "execution_count": 2,
     "metadata": {},
     "output_type": "execute_result"
    }
   ],
   "source": [
    "2**16"
   ]
  },
  {
   "cell_type": "markdown",
   "metadata": {},
   "source": [
    "Incomplete command, Jupyter will display a `SyntaxError`"
   ]
  },
  {
   "cell_type": "code",
   "execution_count": 3,
   "metadata": {},
   "outputs": [
    {
     "ename": "SyntaxError",
     "evalue": "invalid syntax (3817186346.py, line 1)",
     "output_type": "error",
     "traceback": [
      "\u001b[1;36m  Input \u001b[1;32mIn [3]\u001b[1;36m\u001b[0m\n\u001b[1;33m    2^\u001b[0m\n\u001b[1;37m      ^\u001b[0m\n\u001b[1;31mSyntaxError\u001b[0m\u001b[1;31m:\u001b[0m invalid syntax\n"
     ]
    }
   ],
   "source": [
    "2^"
   ]
  },
  {
   "cell_type": "markdown",
   "metadata": {},
   "source": [
    "Your turn:"
   ]
  },
  {
   "cell_type": "code",
   "execution_count": 5,
   "metadata": {},
   "outputs": [
    {
     "data": {
      "text/plain": [
       "77344.21308506763"
      ]
     },
     "execution_count": 5,
     "metadata": {},
     "output_type": "execute_result"
    }
   ],
   "source": [
    "# EXERCISE: Compute 284455 divided by 3.67778\n",
    "\n",
    "284455/3.67778"
   ]
  },
  {
   "cell_type": "markdown",
   "metadata": {},
   "source": [
    "In Python, any text following a hash sign in a code cell is a comment"
   ]
  },
  {
   "cell_type": "markdown",
   "metadata": {},
   "source": [
    "### Interrupting the kernel\n",
    "\n",
    "For debugging, often we would like to interupt the current running process. This can be done by pressing the stop button. \n",
    "\n",
    "When a processing is running, the circle on the right upper corner is filled. When idle, the circle is empty.\n",
    "\n",
    "Interrupting sometimes does not work. You can reset the state by restarting the kernel. This is done by clicking Kernel/Restart or the Refresh button in the toolbar above."
   ]
  },
  {
   "cell_type": "markdown",
   "metadata": {},
   "source": [
    "### Undoing\n",
    "\n",
    "To undo changes in each cell, hit `Command-z` for Mac and `Ctrl-z` for Windows.\n",
    "To undo `Delete Cell`, select `Edit->Undo Delete Cell`."
   ]
  },
  {
   "cell_type": "markdown",
   "metadata": {},
   "source": [
    "### Saving the notebook\n",
    "\n",
    "To save your notebook, either select `\"File->Save and Checkpoint\"` or hit `Command-s` for Mac and `Ctrl-s` for Windows"
   ]
  },
  {
   "cell_type": "markdown",
   "metadata": {},
   "source": [
    "### Other Notebook tips\n",
    "- To add a new cell, either select `\"Insert->Insert New Cell Below\"` or click the white plus button\n",
    "- You can change the cell mode from code to text in the pulldown menu by selecting `Markdown`.\n",
    "- `Help->Keyboard Shortcuts` has a list of keyboard shortcuts"
   ]
  },
  {
   "cell_type": "markdown",
   "metadata": {},
   "source": [
    "## 2. PYTHON LANGUAGE AND NUMPY LIBRARY"
   ]
  },
  {
   "cell_type": "markdown",
   "metadata": {},
   "source": [
    "##  Data Types"
   ]
  },
  {
   "cell_type": "markdown",
   "metadata": {},
   "source": [
    "### Floats and Integers"
   ]
  },
  {
   "cell_type": "code",
   "execution_count": 6,
   "metadata": {},
   "outputs": [
    {
     "name": "stdout",
     "output_type": "stream",
     "text": [
      "4 <class 'int'>\n"
     ]
    }
   ],
   "source": [
    "x = 4\n",
    "print(x, type(x))"
   ]
  },
  {
   "cell_type": "code",
   "execution_count": 7,
   "metadata": {},
   "outputs": [
    {
     "name": "stdout",
     "output_type": "stream",
     "text": [
      "0.25 <class 'float'>\n"
     ]
    }
   ],
   "source": [
    "x = 1 / 4\n",
    "print(x, type(x))"
   ]
  },
  {
   "cell_type": "markdown",
   "metadata": {},
   "source": [
    "### Strings\n",
    "\n",
    "Double quotes and single quotes are the same thing. Both represent strings. `'+'` concatenates strings"
   ]
  },
  {
   "cell_type": "code",
   "execution_count": 8,
   "metadata": {},
   "outputs": [
    {
     "data": {
      "text/plain": [
       "'IEOR 242'"
      ]
     },
     "execution_count": 8,
     "metadata": {},
     "output_type": "execute_result"
    }
   ],
   "source": [
    "\"IEOR \" + '242'"
   ]
  },
  {
   "cell_type": "markdown",
   "metadata": {},
   "source": [
    "### Lists\n",
    "\n",
    "A list is a mutable collection of data. That is we can change it after we create it. They can be created using square brackets []\n",
    "\n",
    "\n",
    "Important functions: \n",
    "- `'+'` appends lists. \n",
    "- `len(x)` to get length"
   ]
  },
  {
   "cell_type": "code",
   "execution_count": 9,
   "metadata": {},
   "outputs": [
    {
     "name": "stdout",
     "output_type": "stream",
     "text": [
      "['IEOR', 2, 4, 2]\n"
     ]
    }
   ],
   "source": [
    "x = [\"IEOR\"] + [2, 4, 2]\n",
    "print(x)"
   ]
  },
  {
   "cell_type": "code",
   "execution_count": 10,
   "metadata": {},
   "outputs": [
    {
     "name": "stdout",
     "output_type": "stream",
     "text": [
      "4\n"
     ]
    }
   ],
   "source": [
    "print(len(x))"
   ]
  },
  {
   "cell_type": "markdown",
   "metadata": {},
   "source": [
    "### Tuples\n",
    "\n",
    "A tuple is an immutable collection of data. They can be created using round brackets (). \n",
    "They are usually used as inputs and outputs to functions."
   ]
  },
  {
   "cell_type": "code",
   "execution_count": 11,
   "metadata": {},
   "outputs": [
    {
     "name": "stdout",
     "output_type": "stream",
     "text": [
      "('I', 'E', 'O', 'R', 2, 4, 2)\n"
     ]
    }
   ],
   "source": [
    "t = (\"I\", \"E\", \"O\", \"R\") + (2, 4, 2)\n",
    "print(t)"
   ]
  },
  {
   "cell_type": "code",
   "execution_count": 12,
   "metadata": {},
   "outputs": [
    {
     "ename": "TypeError",
     "evalue": "'tuple' object does not support item assignment",
     "output_type": "error",
     "traceback": [
      "\u001b[1;31m---------------------------------------------------------------------------\u001b[0m",
      "\u001b[1;31mTypeError\u001b[0m                                 Traceback (most recent call last)",
      "\u001b[1;32mc:\\Users\\minon\\Downloads\\Lab1_teaching.ipynb Cellule 27\u001b[0m in \u001b[0;36m<cell line: 2>\u001b[1;34m()\u001b[0m\n\u001b[0;32m      <a href='vscode-notebook-cell:/c%3A/Users/minon/Downloads/Lab1_teaching.ipynb#X35sZmlsZQ%3D%3D?line=0'>1</a>\u001b[0m \u001b[39m# Cannot do assignment to a tuple after creation - it's immutable\u001b[39;00m\n\u001b[1;32m----> <a href='vscode-notebook-cell:/c%3A/Users/minon/Downloads/Lab1_teaching.ipynb#X35sZmlsZQ%3D%3D?line=1'>2</a>\u001b[0m t[\u001b[39m4\u001b[39m] \u001b[39m=\u001b[39m \u001b[39m3\u001b[39m\n",
      "\u001b[1;31mTypeError\u001b[0m: 'tuple' object does not support item assignment"
     ]
    }
   ],
   "source": [
    "# Cannot do assignment to a tuple after creation - it's immutable\n",
    "t[4] = 3 # will error\n",
    "\n",
    "# Note: errors in notebook appear inline"
   ]
  },
  {
   "cell_type": "markdown",
   "metadata": {},
   "source": [
    "## Functions and Variables"
   ]
  },
  {
   "cell_type": "markdown",
   "metadata": {},
   "source": [
    "A function can take in several arguments or inputs, and returns an output value.\n",
    "Python has some built-in functions:"
   ]
  },
  {
   "cell_type": "code",
   "execution_count": 13,
   "metadata": {},
   "outputs": [
    {
     "data": {
      "text/plain": [
       "65"
      ]
     },
     "execution_count": 13,
     "metadata": {},
     "output_type": "execute_result"
    }
   ],
   "source": [
    "abs(-65)"
   ]
  },
  {
   "cell_type": "code",
   "execution_count": 14,
   "metadata": {},
   "outputs": [
    {
     "data": {
      "text/plain": [
       "4"
      ]
     },
     "execution_count": 14,
     "metadata": {},
     "output_type": "execute_result"
    }
   ],
   "source": [
    "max([2, 4, 2])"
   ]
  },
  {
   "cell_type": "code",
   "execution_count": 15,
   "metadata": {},
   "outputs": [
    {
     "name": "stdout",
     "output_type": "stream",
     "text": [
      "\u001b[1;31mDocstring:\u001b[0m\n",
      "max(iterable, *[, default=obj, key=func]) -> value\n",
      "max(arg1, arg2, *args, *[, key=func]) -> value\n",
      "\n",
      "With a single iterable argument, return its biggest item. The\n",
      "default keyword-only argument specifies an object to return if\n",
      "the provided iterable is empty.\n",
      "With two or more arguments, return the largest argument.\n",
      "\u001b[1;31mType:\u001b[0m      builtin_function_or_method\n"
     ]
    }
   ],
   "source": [
    "# Get help on any function:\n",
    "max?"
   ]
  },
  {
   "cell_type": "markdown",
   "metadata": {},
   "source": [
    "Basic variable naming rules: \n",
    "- Don't use spaces (underscores or capital letters instead), i.e time_reader() or timeReader\n",
    "- Don't start names with a number\n",
    "- Variable names are case sensitive - capital and lowercase letters are different"
   ]
  },
  {
   "cell_type": "code",
   "execution_count": 16,
   "metadata": {},
   "outputs": [
    {
     "name": "stdout",
     "output_type": "stream",
     "text": [
      "86400\n"
     ]
    }
   ],
   "source": [
    "# EXERCISE: \n",
    "# Create a variable called \"SecondsDay\" that is equal to the number of seconds in a day, and output its value.\n",
    "SecondsDay = 3600 * 24\n",
    "print(SecondsDay)\n"
   ]
  },
  {
   "cell_type": "markdown",
   "metadata": {},
   "source": [
    "### User-defined Functions\n",
    "\n",
    "We can define functions ourselves, by using `def` and passing the expected inputs, as well as stating the returned output.\n",
    "In this example we create a function that takes two numbers `x` and `y`, and returns the sum."
   ]
  },
  {
   "cell_type": "code",
   "execution_count": 17,
   "metadata": {},
   "outputs": [],
   "source": [
    "def my_function(x, y):\n",
    "    \n",
    "    result = x+y\n",
    "    \n",
    "    return result"
   ]
  },
  {
   "cell_type": "code",
   "execution_count": 18,
   "metadata": {},
   "outputs": [
    {
     "data": {
      "text/plain": [
       "8"
      ]
     },
     "execution_count": 18,
     "metadata": {},
     "output_type": "execute_result"
    }
   ],
   "source": [
    "my_function(5, 3)"
   ]
  },
  {
   "cell_type": "markdown",
   "metadata": {},
   "source": [
    "## Linear Algebra with Numpy\n",
    "\n",
    "The numpy array, aka an \"ndarray\", is like a list with multidimensional support and more functions.\n",
    "https://numpy.org/doc/stable/reference/routines.linalg.html\n",
    "\n",
    "Important NumPy Array functions:\n",
    "\n",
    "- `.shape` returns the dimensions of the array.\n",
    "\n",
    "- `.ndim` returns the number of dimensions. \n",
    "\n",
    "- `.size` returns the number of entries in the array.\n",
    "\n",
    "- `len()` returns the first dimension.\n",
    "\n",
    "\n",
    "To use functions in NumPy, we have to import NumPy to our workspace. This is done by the command `import numpy`. By convention, we rename `numpy` as `np` for convenience."
   ]
  },
  {
   "cell_type": "markdown",
   "metadata": {},
   "source": [
    "### Arrays"
   ]
  },
  {
   "cell_type": "code",
   "execution_count": 19,
   "metadata": {},
   "outputs": [
    {
     "data": {
      "text/plain": [
       "(3,)"
      ]
     },
     "execution_count": 19,
     "metadata": {},
     "output_type": "execute_result"
    }
   ],
   "source": [
    "import numpy as np\n",
    "\n",
    "a = np.array([1,2,3])\n",
    "a.shape"
   ]
  },
  {
   "cell_type": "code",
   "execution_count": 20,
   "metadata": {},
   "outputs": [
    {
     "data": {
      "text/plain": [
       "array([2, 4, 6])"
      ]
     },
     "execution_count": 20,
     "metadata": {},
     "output_type": "execute_result"
    }
   ],
   "source": [
    "2*a"
   ]
  },
  {
   "cell_type": "code",
   "execution_count": 21,
   "metadata": {},
   "outputs": [
    {
     "data": {
      "text/plain": [
       "array([3, 6, 9])"
      ]
     },
     "execution_count": 21,
     "metadata": {},
     "output_type": "execute_result"
    }
   ],
   "source": [
    "# Element-wise multiplication\n",
    "b = np.array([3,3,3])\n",
    "np.multiply(a,b)"
   ]
  },
  {
   "cell_type": "code",
   "execution_count": 22,
   "metadata": {},
   "outputs": [
    {
     "name": "stdout",
     "output_type": "stream",
     "text": [
      "18\n"
     ]
    }
   ],
   "source": [
    "# Inner product\n",
    "inner_product = np.dot(a,b)\n",
    "print(inner_product)"
   ]
  },
  {
   "cell_type": "markdown",
   "metadata": {},
   "source": [
    "### Slicing\n",
    "\n",
    "Numpy uses pass-by-reference semantics so it creates views into the existing array, without implicit copying. This is particularly helpful with very large arrays because copying can be slow."
   ]
  },
  {
   "cell_type": "code",
   "execution_count": 23,
   "metadata": {
    "scrolled": true
   },
   "outputs": [
    {
     "name": "stdout",
     "output_type": "stream",
     "text": [
      "[1 2 3 4]\n"
     ]
    }
   ],
   "source": [
    "x= np.array([1,2,3,4,5,6])\n",
    "y = x[0:4]\n",
    "print(y)"
   ]
  },
  {
   "cell_type": "code",
   "execution_count": 24,
   "metadata": {},
   "outputs": [],
   "source": [
    "y[3] = 5"
   ]
  },
  {
   "cell_type": "code",
   "execution_count": 25,
   "metadata": {
    "scrolled": true
   },
   "outputs": [
    {
     "data": {
      "text/plain": [
       "array([1, 2, 3, 5, 5, 6])"
      ]
     },
     "execution_count": 25,
     "metadata": {},
     "output_type": "execute_result"
    }
   ],
   "source": [
    "x"
   ]
  },
  {
   "cell_type": "markdown",
   "metadata": {},
   "source": [
    "Because slicing does not copy the array, changing `y` changes `x`. To actually copy x, we should use `.copy()`. "
   ]
  },
  {
   "cell_type": "markdown",
   "metadata": {},
   "source": [
    "### Matrices"
   ]
  },
  {
   "cell_type": "code",
   "execution_count": 26,
   "metadata": {},
   "outputs": [
    {
     "name": "stdout",
     "output_type": "stream",
     "text": [
      "[[1 2 8]\n",
      " [3 2 9]]\n"
     ]
    }
   ],
   "source": [
    "# Create a matrix\n",
    "A = np.array([[1, 2, 8],\n",
    "             [3, 2, 9]])\n",
    "print(A)"
   ]
  },
  {
   "cell_type": "code",
   "execution_count": 27,
   "metadata": {},
   "outputs": [
    {
     "name": "stdout",
     "output_type": "stream",
     "text": [
      "[[ 23  90]\n",
      " [ 27 103]]\n",
      "[[ 23  90]\n",
      " [ 27 103]]\n"
     ]
    }
   ],
   "source": [
    "# Matrix multiplication\n",
    "B = np.array([[1, 2],\n",
    "              [3, 8],\n",
    "              [2, 9]])\n",
    "\n",
    "# There are tow ways to perform matrix multiplication:\n",
    "print(np.matmul(A,B))\n",
    "\n",
    "# Alternatively:\n",
    "print(A@B)"
   ]
  },
  {
   "cell_type": "code",
   "execution_count": 28,
   "metadata": {},
   "outputs": [
    {
     "data": {
      "text/plain": [
       "array([[1, 3],\n",
       "       [2, 2],\n",
       "       [8, 9]])"
      ]
     },
     "execution_count": 28,
     "metadata": {},
     "output_type": "execute_result"
    }
   ],
   "source": [
    "# Transpose a matrix\n",
    "A.T"
   ]
  },
  {
   "cell_type": "code",
   "execution_count": 29,
   "metadata": {},
   "outputs": [
    {
     "data": {
      "text/plain": [
       "array([[1.00000000e+00, 1.11022302e-16],\n",
       "       [2.22044605e-16, 1.00000000e+00]])"
      ]
     },
     "execution_count": 29,
     "metadata": {},
     "output_type": "execute_result"
    }
   ],
   "source": [
    "# Compute the inverse\n",
    "C = np.array([[1, 2],\n",
    "             [3, 2]])\n",
    "D = np.linalg.inv(C)\n",
    "C@D"
   ]
  },
  {
   "cell_type": "markdown",
   "metadata": {},
   "source": [
    "## 3. DATA MANIPULATION WITH PANDAS LIBRARY\n",
    "\n",
    "`pandas` is designed to make it easier to work with structured data. Most of the analyses you might perform will likely involve using tabular data, e.g., from .csv files or relational databases (e.g., SQL). The `DataFrame` object in `pandas` is \"a two-dimensional tabular, column-oriented data structure with both row and column labels.\"\n",
    "\n",
    "If you're curious:\n",
    "\n",
    ">The `pandas` name itself is derived from *panel data*, an econometrics term for multidimensional structured data sets, and *Python data analysis* itself. After getting introduced, you can consult the full [`pandas` documentation](http://pandas.pydata.org/pandas-docs/stable/)."
   ]
  },
  {
   "cell_type": "markdown",
   "metadata": {},
   "source": [
    "### Setting the working directory\n",
    "\n",
    "Before loading the data, let's begin by setting the right working directory. In order to change the working directory, we use the `os` library"
   ]
  },
  {
   "cell_type": "code",
   "execution_count": 30,
   "metadata": {},
   "outputs": [
    {
     "data": {
      "text/plain": [
       "'c:\\\\Users\\\\minon\\\\Downloads'"
      ]
     },
     "execution_count": 30,
     "metadata": {},
     "output_type": "execute_result"
    }
   ],
   "source": [
    "import os\n",
    "os.getcwd()"
   ]
  },
  {
   "cell_type": "markdown",
   "metadata": {},
   "source": [
    "Change the working directory to whichever path has your python files and data files"
   ]
  },
  {
   "cell_type": "code",
   "execution_count": 33,
   "metadata": {},
   "outputs": [
    {
     "name": "stdout",
     "output_type": "stream",
     "text": [
      "c:\\Users\\minon\\Downloads\n",
      "c:\\Users\\minon\n"
     ]
    }
   ],
   "source": [
    "os.chdir(\"c:\\\\Users\\\\minon\\\\Downloads\")\n",
    "print(os.getcwd())\n",
    "\n",
    "# to go one folder level back use a double dot\n",
    "os.chdir(\"..\")\n",
    "print(os.getcwd())"
   ]
  },
  {
   "cell_type": "markdown",
   "metadata": {},
   "source": [
    "### Loading CSV files\n",
    "\n",
    "Now we can use the `pandas` library to load the data. Import `pandas` using the conventional abbreviation and call the `read_csv` method on your file's path name"
   ]
  },
  {
   "cell_type": "code",
   "execution_count": 36,
   "metadata": {},
   "outputs": [],
   "source": [
    "import pandas as pd\n",
    "\n",
    "# WHO = pd.read_csv(\"WHO.csv\")\n",
    "WHO = pd.read_csv(\"c:\\\\Users\\\\minon\\\\Downloads\\\\WHO_AsiaEurope.csv\", encoding = \"ISO-8859-1\") ##check this encoding, also encoding = 'unicode_escape'"
   ]
  },
  {
   "cell_type": "markdown",
   "metadata": {},
   "source": [
    "### The Dataframe"
   ]
  },
  {
   "cell_type": "code",
   "execution_count": 37,
   "metadata": {},
   "outputs": [
    {
     "data": {
      "text/html": [
       "<div>\n",
       "<style scoped>\n",
       "    .dataframe tbody tr th:only-of-type {\n",
       "        vertical-align: middle;\n",
       "    }\n",
       "\n",
       "    .dataframe tbody tr th {\n",
       "        vertical-align: top;\n",
       "    }\n",
       "\n",
       "    .dataframe thead th {\n",
       "        text-align: right;\n",
       "    }\n",
       "</style>\n",
       "<table border=\"1\" class=\"dataframe\">\n",
       "  <thead>\n",
       "    <tr style=\"text-align: right;\">\n",
       "      <th></th>\n",
       "      <th>Unnamed: 0</th>\n",
       "      <th>Country</th>\n",
       "      <th>Region</th>\n",
       "      <th>Population</th>\n",
       "      <th>Under15</th>\n",
       "      <th>Over60</th>\n",
       "      <th>FertilityRate</th>\n",
       "      <th>LifeExpectancy</th>\n",
       "      <th>ChildMortality</th>\n",
       "      <th>CellularSubscribers</th>\n",
       "      <th>LiteracyRate</th>\n",
       "      <th>GNI</th>\n",
       "      <th>PrimarySchoolEnrollmentMale</th>\n",
       "      <th>PrimarySchoolEnrollmentFemale</th>\n",
       "    </tr>\n",
       "  </thead>\n",
       "  <tbody>\n",
       "    <tr>\n",
       "      <th>0</th>\n",
       "      <td>0</td>\n",
       "      <td>Afghanistan</td>\n",
       "      <td>Eastern Mediterranean</td>\n",
       "      <td>29825</td>\n",
       "      <td>47.42</td>\n",
       "      <td>3.82</td>\n",
       "      <td>5.40</td>\n",
       "      <td>60</td>\n",
       "      <td>98.5</td>\n",
       "      <td>54.26</td>\n",
       "      <td>NaN</td>\n",
       "      <td>1140.0</td>\n",
       "      <td>NaN</td>\n",
       "      <td>NaN</td>\n",
       "    </tr>\n",
       "    <tr>\n",
       "      <th>1</th>\n",
       "      <td>1</td>\n",
       "      <td>Albania</td>\n",
       "      <td>Europe</td>\n",
       "      <td>3162</td>\n",
       "      <td>21.33</td>\n",
       "      <td>14.93</td>\n",
       "      <td>1.75</td>\n",
       "      <td>74</td>\n",
       "      <td>16.7</td>\n",
       "      <td>96.39</td>\n",
       "      <td>NaN</td>\n",
       "      <td>8820.0</td>\n",
       "      <td>NaN</td>\n",
       "      <td>NaN</td>\n",
       "    </tr>\n",
       "    <tr>\n",
       "      <th>2</th>\n",
       "      <td>3</td>\n",
       "      <td>Andorra</td>\n",
       "      <td>Europe</td>\n",
       "      <td>78</td>\n",
       "      <td>15.20</td>\n",
       "      <td>22.86</td>\n",
       "      <td>NaN</td>\n",
       "      <td>82</td>\n",
       "      <td>3.2</td>\n",
       "      <td>75.49</td>\n",
       "      <td>NaN</td>\n",
       "      <td>NaN</td>\n",
       "      <td>78.4</td>\n",
       "      <td>79.4</td>\n",
       "    </tr>\n",
       "    <tr>\n",
       "      <th>3</th>\n",
       "      <td>7</td>\n",
       "      <td>Armenia</td>\n",
       "      <td>Europe</td>\n",
       "      <td>2969</td>\n",
       "      <td>20.34</td>\n",
       "      <td>14.06</td>\n",
       "      <td>1.74</td>\n",
       "      <td>71</td>\n",
       "      <td>16.4</td>\n",
       "      <td>103.57</td>\n",
       "      <td>99.6</td>\n",
       "      <td>6100.0</td>\n",
       "      <td>NaN</td>\n",
       "      <td>NaN</td>\n",
       "    </tr>\n",
       "    <tr>\n",
       "      <th>4</th>\n",
       "      <td>9</td>\n",
       "      <td>Austria</td>\n",
       "      <td>Europe</td>\n",
       "      <td>8464</td>\n",
       "      <td>14.51</td>\n",
       "      <td>23.52</td>\n",
       "      <td>1.44</td>\n",
       "      <td>81</td>\n",
       "      <td>4.0</td>\n",
       "      <td>154.78</td>\n",
       "      <td>NaN</td>\n",
       "      <td>42050.0</td>\n",
       "      <td>NaN</td>\n",
       "      <td>NaN</td>\n",
       "    </tr>\n",
       "    <tr>\n",
       "      <th>...</th>\n",
       "      <td>...</td>\n",
       "      <td>...</td>\n",
       "      <td>...</td>\n",
       "      <td>...</td>\n",
       "      <td>...</td>\n",
       "      <td>...</td>\n",
       "      <td>...</td>\n",
       "      <td>...</td>\n",
       "      <td>...</td>\n",
       "      <td>...</td>\n",
       "      <td>...</td>\n",
       "      <td>...</td>\n",
       "      <td>...</td>\n",
       "      <td>...</td>\n",
       "    </tr>\n",
       "    <tr>\n",
       "      <th>81</th>\n",
       "      <td>181</td>\n",
       "      <td>Ukraine</td>\n",
       "      <td>Europe</td>\n",
       "      <td>45530</td>\n",
       "      <td>14.18</td>\n",
       "      <td>20.76</td>\n",
       "      <td>1.45</td>\n",
       "      <td>71</td>\n",
       "      <td>10.7</td>\n",
       "      <td>122.98</td>\n",
       "      <td>99.7</td>\n",
       "      <td>7040.0</td>\n",
       "      <td>90.8</td>\n",
       "      <td>91.5</td>\n",
       "    </tr>\n",
       "    <tr>\n",
       "      <th>82</th>\n",
       "      <td>182</td>\n",
       "      <td>United Arab Emirates</td>\n",
       "      <td>Eastern Mediterranean</td>\n",
       "      <td>9206</td>\n",
       "      <td>14.41</td>\n",
       "      <td>0.81</td>\n",
       "      <td>1.84</td>\n",
       "      <td>76</td>\n",
       "      <td>8.4</td>\n",
       "      <td>148.62</td>\n",
       "      <td>NaN</td>\n",
       "      <td>47890.0</td>\n",
       "      <td>NaN</td>\n",
       "      <td>NaN</td>\n",
       "    </tr>\n",
       "    <tr>\n",
       "      <th>83</th>\n",
       "      <td>183</td>\n",
       "      <td>United Kingdom</td>\n",
       "      <td>Europe</td>\n",
       "      <td>62783</td>\n",
       "      <td>17.54</td>\n",
       "      <td>23.06</td>\n",
       "      <td>1.90</td>\n",
       "      <td>80</td>\n",
       "      <td>4.8</td>\n",
       "      <td>130.75</td>\n",
       "      <td>NaN</td>\n",
       "      <td>36010.0</td>\n",
       "      <td>99.8</td>\n",
       "      <td>99.6</td>\n",
       "    </tr>\n",
       "    <tr>\n",
       "      <th>84</th>\n",
       "      <td>187</td>\n",
       "      <td>Uzbekistan</td>\n",
       "      <td>Europe</td>\n",
       "      <td>28541</td>\n",
       "      <td>28.90</td>\n",
       "      <td>6.38</td>\n",
       "      <td>2.38</td>\n",
       "      <td>68</td>\n",
       "      <td>39.6</td>\n",
       "      <td>91.65</td>\n",
       "      <td>99.4</td>\n",
       "      <td>3420.0</td>\n",
       "      <td>93.3</td>\n",
       "      <td>91.0</td>\n",
       "    </tr>\n",
       "    <tr>\n",
       "      <th>85</th>\n",
       "      <td>191</td>\n",
       "      <td>Yemen</td>\n",
       "      <td>Eastern Mediterranean</td>\n",
       "      <td>23852</td>\n",
       "      <td>40.72</td>\n",
       "      <td>4.54</td>\n",
       "      <td>4.35</td>\n",
       "      <td>64</td>\n",
       "      <td>60.0</td>\n",
       "      <td>47.05</td>\n",
       "      <td>63.9</td>\n",
       "      <td>2170.0</td>\n",
       "      <td>85.5</td>\n",
       "      <td>70.5</td>\n",
       "    </tr>\n",
       "  </tbody>\n",
       "</table>\n",
       "<p>86 rows × 14 columns</p>\n",
       "</div>"
      ],
      "text/plain": [
       "    Unnamed: 0               Country                 Region  Population  \\\n",
       "0            0           Afghanistan  Eastern Mediterranean       29825   \n",
       "1            1               Albania                 Europe        3162   \n",
       "2            3               Andorra                 Europe          78   \n",
       "3            7               Armenia                 Europe        2969   \n",
       "4            9               Austria                 Europe        8464   \n",
       "..         ...                   ...                    ...         ...   \n",
       "81         181               Ukraine                 Europe       45530   \n",
       "82         182  United Arab Emirates  Eastern Mediterranean        9206   \n",
       "83         183        United Kingdom                 Europe       62783   \n",
       "84         187            Uzbekistan                 Europe       28541   \n",
       "85         191                 Yemen  Eastern Mediterranean       23852   \n",
       "\n",
       "    Under15  Over60  FertilityRate  LifeExpectancy  ChildMortality  \\\n",
       "0     47.42    3.82           5.40              60            98.5   \n",
       "1     21.33   14.93           1.75              74            16.7   \n",
       "2     15.20   22.86            NaN              82             3.2   \n",
       "3     20.34   14.06           1.74              71            16.4   \n",
       "4     14.51   23.52           1.44              81             4.0   \n",
       "..      ...     ...            ...             ...             ...   \n",
       "81    14.18   20.76           1.45              71            10.7   \n",
       "82    14.41    0.81           1.84              76             8.4   \n",
       "83    17.54   23.06           1.90              80             4.8   \n",
       "84    28.90    6.38           2.38              68            39.6   \n",
       "85    40.72    4.54           4.35              64            60.0   \n",
       "\n",
       "    CellularSubscribers  LiteracyRate      GNI  PrimarySchoolEnrollmentMale  \\\n",
       "0                 54.26           NaN   1140.0                          NaN   \n",
       "1                 96.39           NaN   8820.0                          NaN   \n",
       "2                 75.49           NaN      NaN                         78.4   \n",
       "3                103.57          99.6   6100.0                          NaN   \n",
       "4                154.78           NaN  42050.0                          NaN   \n",
       "..                  ...           ...      ...                          ...   \n",
       "81               122.98          99.7   7040.0                         90.8   \n",
       "82               148.62           NaN  47890.0                          NaN   \n",
       "83               130.75           NaN  36010.0                         99.8   \n",
       "84                91.65          99.4   3420.0                         93.3   \n",
       "85                47.05          63.9   2170.0                         85.5   \n",
       "\n",
       "    PrimarySchoolEnrollmentFemale  \n",
       "0                             NaN  \n",
       "1                             NaN  \n",
       "2                            79.4  \n",
       "3                             NaN  \n",
       "4                             NaN  \n",
       "..                            ...  \n",
       "81                           91.5  \n",
       "82                            NaN  \n",
       "83                           99.6  \n",
       "84                           91.0  \n",
       "85                           70.5  \n",
       "\n",
       "[86 rows x 14 columns]"
      ]
     },
     "execution_count": 37,
     "metadata": {},
     "output_type": "execute_result"
    }
   ],
   "source": [
    "WHO"
   ]
  },
  {
   "cell_type": "code",
   "execution_count": 38,
   "metadata": {},
   "outputs": [
    {
     "name": "stdout",
     "output_type": "stream",
     "text": [
      "<class 'pandas.core.frame.DataFrame'>\n",
      "RangeIndex: 86 entries, 0 to 85\n",
      "Data columns (total 14 columns):\n",
      " #   Column                         Non-Null Count  Dtype  \n",
      "---  ------                         --------------  -----  \n",
      " 0   Unnamed: 0                     86 non-null     int64  \n",
      " 1   Country                        86 non-null     object \n",
      " 2   Region                         86 non-null     object \n",
      " 3   Population                     86 non-null     int64  \n",
      " 4   Under15                        86 non-null     float64\n",
      " 5   Over60                         86 non-null     float64\n",
      " 6   FertilityRate                  83 non-null     float64\n",
      " 7   LifeExpectancy                 86 non-null     int64  \n",
      " 8   ChildMortality                 86 non-null     float64\n",
      " 9   CellularSubscribers            83 non-null     float64\n",
      " 10  LiteracyRate                   41 non-null     float64\n",
      " 11  GNI                            69 non-null     float64\n",
      " 12  PrimarySchoolEnrollmentMale    48 non-null     float64\n",
      " 13  PrimarySchoolEnrollmentFemale  48 non-null     float64\n",
      "dtypes: float64(9), int64(3), object(2)\n",
      "memory usage: 9.5+ KB\n"
     ]
    }
   ],
   "source": [
    "# Structure of the data\n",
    "WHO.info()"
   ]
  },
  {
   "cell_type": "code",
   "execution_count": null,
   "metadata": {},
   "outputs": [],
   "source": [
    "# Recent statistics from the World Health Organization (WHO)\n",
    "# The variables are: \n",
    "# the name of the country\n",
    "# the region the country is in\n",
    "# the population in thousandsa\n",
    "# the percentage of the population under 15 and over 60\n",
    "# the fertility rate (average number of children per woman)\n",
    "# the Life Expectancy in years\n",
    "# the Child Mortality rate (the number of children who die by age 5 per 1000 births)\n",
    "# the number of cellular subscribers per 100 population\n",
    "# the literacy rate among adults aged >= 15\n",
    "# the gross national income per capita\n",
    "# the percentage of male children enrolled in primary school\n",
    "# the percentage of female children enrolled in primary school"
   ]
  },
  {
   "cell_type": "code",
   "execution_count": 39,
   "metadata": {},
   "outputs": [
    {
     "data": {
      "text/html": [
       "<div>\n",
       "<style scoped>\n",
       "    .dataframe tbody tr th:only-of-type {\n",
       "        vertical-align: middle;\n",
       "    }\n",
       "\n",
       "    .dataframe tbody tr th {\n",
       "        vertical-align: top;\n",
       "    }\n",
       "\n",
       "    .dataframe thead th {\n",
       "        text-align: right;\n",
       "    }\n",
       "</style>\n",
       "<table border=\"1\" class=\"dataframe\">\n",
       "  <thead>\n",
       "    <tr style=\"text-align: right;\">\n",
       "      <th></th>\n",
       "      <th>Unnamed: 0</th>\n",
       "      <th>Population</th>\n",
       "      <th>Under15</th>\n",
       "      <th>Over60</th>\n",
       "      <th>FertilityRate</th>\n",
       "      <th>LifeExpectancy</th>\n",
       "      <th>ChildMortality</th>\n",
       "      <th>CellularSubscribers</th>\n",
       "      <th>LiteracyRate</th>\n",
       "      <th>GNI</th>\n",
       "      <th>PrimarySchoolEnrollmentMale</th>\n",
       "      <th>PrimarySchoolEnrollmentFemale</th>\n",
       "    </tr>\n",
       "  </thead>\n",
       "  <tbody>\n",
       "    <tr>\n",
       "      <th>count</th>\n",
       "      <td>86.000000</td>\n",
       "      <td>8.600000e+01</td>\n",
       "      <td>86.000000</td>\n",
       "      <td>86.000000</td>\n",
       "      <td>83.000000</td>\n",
       "      <td>86.000000</td>\n",
       "      <td>86.000000</td>\n",
       "      <td>83.000000</td>\n",
       "      <td>41.000000</td>\n",
       "      <td>69.000000</td>\n",
       "      <td>48.000000</td>\n",
       "      <td>48.000000</td>\n",
       "    </tr>\n",
       "    <tr>\n",
       "      <th>mean</th>\n",
       "      <td>101.255814</td>\n",
       "      <td>3.899580e+04</td>\n",
       "      <td>22.752326</td>\n",
       "      <td>14.746163</td>\n",
       "      <td>2.260482</td>\n",
       "      <td>73.965116</td>\n",
       "      <td>20.973256</td>\n",
       "      <td>106.259036</td>\n",
       "      <td>91.521951</td>\n",
       "      <td>19958.405797</td>\n",
       "      <td>94.758333</td>\n",
       "      <td>94.364583</td>\n",
       "    </tr>\n",
       "    <tr>\n",
       "      <th>std</th>\n",
       "      <td>56.024194</td>\n",
       "      <td>1.374448e+05</td>\n",
       "      <td>9.005119</td>\n",
       "      <td>8.080025</td>\n",
       "      <td>1.096263</td>\n",
       "      <td>6.966217</td>\n",
       "      <td>26.891439</td>\n",
       "      <td>38.679951</td>\n",
       "      <td>12.791687</td>\n",
       "      <td>17635.245593</td>\n",
       "      <td>5.264406</td>\n",
       "      <td>7.138523</td>\n",
       "    </tr>\n",
       "    <tr>\n",
       "      <th>min</th>\n",
       "      <td>0.000000</td>\n",
       "      <td>3.100000e+01</td>\n",
       "      <td>13.170000</td>\n",
       "      <td>0.810000</td>\n",
       "      <td>1.260000</td>\n",
       "      <td>50.000000</td>\n",
       "      <td>2.200000</td>\n",
       "      <td>2.570000</td>\n",
       "      <td>56.800000</td>\n",
       "      <td>1140.000000</td>\n",
       "      <td>78.400000</td>\n",
       "      <td>66.500000</td>\n",
       "    </tr>\n",
       "    <tr>\n",
       "      <th>25%</th>\n",
       "      <td>60.250000</td>\n",
       "      <td>3.266000e+03</td>\n",
       "      <td>15.147500</td>\n",
       "      <td>6.710000</td>\n",
       "      <td>1.495000</td>\n",
       "      <td>69.250000</td>\n",
       "      <td>4.225000</td>\n",
       "      <td>87.875000</td>\n",
       "      <td>91.200000</td>\n",
       "      <td>5930.000000</td>\n",
       "      <td>93.300000</td>\n",
       "      <td>92.550000</td>\n",
       "    </tr>\n",
       "    <tr>\n",
       "      <th>50%</th>\n",
       "      <td>98.500000</td>\n",
       "      <td>9.257500e+03</td>\n",
       "      <td>18.825000</td>\n",
       "      <td>15.870000</td>\n",
       "      <td>1.930000</td>\n",
       "      <td>75.000000</td>\n",
       "      <td>9.600000</td>\n",
       "      <td>109.350000</td>\n",
       "      <td>97.900000</td>\n",
       "      <td>14470.000000</td>\n",
       "      <td>96.600000</td>\n",
       "      <td>96.750000</td>\n",
       "    </tr>\n",
       "    <tr>\n",
       "      <th>75%</th>\n",
       "      <td>154.000000</td>\n",
       "      <td>2.847775e+04</td>\n",
       "      <td>28.837500</td>\n",
       "      <td>22.982500</td>\n",
       "      <td>2.510000</td>\n",
       "      <td>80.000000</td>\n",
       "      <td>25.200000</td>\n",
       "      <td>126.675000</td>\n",
       "      <td>99.600000</td>\n",
       "      <td>31020.000000</td>\n",
       "      <td>98.950000</td>\n",
       "      <td>99.200000</td>\n",
       "    </tr>\n",
       "    <tr>\n",
       "      <th>max</th>\n",
       "      <td>191.000000</td>\n",
       "      <td>1.240000e+06</td>\n",
       "      <td>47.420000</td>\n",
       "      <td>26.970000</td>\n",
       "      <td>6.770000</td>\n",
       "      <td>83.000000</td>\n",
       "      <td>147.400000</td>\n",
       "      <td>191.240000</td>\n",
       "      <td>99.800000</td>\n",
       "      <td>86440.000000</td>\n",
       "      <td>99.800000</td>\n",
       "      <td>100.000000</td>\n",
       "    </tr>\n",
       "  </tbody>\n",
       "</table>\n",
       "</div>"
      ],
      "text/plain": [
       "       Unnamed: 0    Population    Under15     Over60  FertilityRate  \\\n",
       "count   86.000000  8.600000e+01  86.000000  86.000000      83.000000   \n",
       "mean   101.255814  3.899580e+04  22.752326  14.746163       2.260482   \n",
       "std     56.024194  1.374448e+05   9.005119   8.080025       1.096263   \n",
       "min      0.000000  3.100000e+01  13.170000   0.810000       1.260000   \n",
       "25%     60.250000  3.266000e+03  15.147500   6.710000       1.495000   \n",
       "50%     98.500000  9.257500e+03  18.825000  15.870000       1.930000   \n",
       "75%    154.000000  2.847775e+04  28.837500  22.982500       2.510000   \n",
       "max    191.000000  1.240000e+06  47.420000  26.970000       6.770000   \n",
       "\n",
       "       LifeExpectancy  ChildMortality  CellularSubscribers  LiteracyRate  \\\n",
       "count       86.000000       86.000000            83.000000     41.000000   \n",
       "mean        73.965116       20.973256           106.259036     91.521951   \n",
       "std          6.966217       26.891439            38.679951     12.791687   \n",
       "min         50.000000        2.200000             2.570000     56.800000   \n",
       "25%         69.250000        4.225000            87.875000     91.200000   \n",
       "50%         75.000000        9.600000           109.350000     97.900000   \n",
       "75%         80.000000       25.200000           126.675000     99.600000   \n",
       "max         83.000000      147.400000           191.240000     99.800000   \n",
       "\n",
       "                GNI  PrimarySchoolEnrollmentMale  \\\n",
       "count     69.000000                    48.000000   \n",
       "mean   19958.405797                    94.758333   \n",
       "std    17635.245593                     5.264406   \n",
       "min     1140.000000                    78.400000   \n",
       "25%     5930.000000                    93.300000   \n",
       "50%    14470.000000                    96.600000   \n",
       "75%    31020.000000                    98.950000   \n",
       "max    86440.000000                    99.800000   \n",
       "\n",
       "       PrimarySchoolEnrollmentFemale  \n",
       "count                      48.000000  \n",
       "mean                       94.364583  \n",
       "std                         7.138523  \n",
       "min                        66.500000  \n",
       "25%                        92.550000  \n",
       "50%                        96.750000  \n",
       "75%                        99.200000  \n",
       "max                       100.000000  "
      ]
     },
     "execution_count": 39,
     "metadata": {},
     "output_type": "execute_result"
    }
   ],
   "source": [
    "# Statistical summary of the data:\n",
    "WHO.describe()"
   ]
  },
  {
   "cell_type": "code",
   "execution_count": 40,
   "metadata": {},
   "outputs": [
    {
     "data": {
      "text/html": [
       "<div>\n",
       "<style scoped>\n",
       "    .dataframe tbody tr th:only-of-type {\n",
       "        vertical-align: middle;\n",
       "    }\n",
       "\n",
       "    .dataframe tbody tr th {\n",
       "        vertical-align: top;\n",
       "    }\n",
       "\n",
       "    .dataframe thead th {\n",
       "        text-align: right;\n",
       "    }\n",
       "</style>\n",
       "<table border=\"1\" class=\"dataframe\">\n",
       "  <thead>\n",
       "    <tr style=\"text-align: right;\">\n",
       "      <th></th>\n",
       "      <th>Unnamed: 0</th>\n",
       "      <th>Country</th>\n",
       "      <th>Region</th>\n",
       "      <th>Population</th>\n",
       "      <th>Under15</th>\n",
       "      <th>Over60</th>\n",
       "      <th>FertilityRate</th>\n",
       "      <th>LifeExpectancy</th>\n",
       "      <th>ChildMortality</th>\n",
       "      <th>CellularSubscribers</th>\n",
       "      <th>LiteracyRate</th>\n",
       "      <th>GNI</th>\n",
       "      <th>PrimarySchoolEnrollmentMale</th>\n",
       "      <th>PrimarySchoolEnrollmentFemale</th>\n",
       "    </tr>\n",
       "  </thead>\n",
       "  <tbody>\n",
       "    <tr>\n",
       "      <th>0</th>\n",
       "      <td>0</td>\n",
       "      <td>Afghanistan</td>\n",
       "      <td>Eastern Mediterranean</td>\n",
       "      <td>29825</td>\n",
       "      <td>47.42</td>\n",
       "      <td>3.82</td>\n",
       "      <td>5.40</td>\n",
       "      <td>60</td>\n",
       "      <td>98.5</td>\n",
       "      <td>54.26</td>\n",
       "      <td>NaN</td>\n",
       "      <td>1140.0</td>\n",
       "      <td>NaN</td>\n",
       "      <td>NaN</td>\n",
       "    </tr>\n",
       "    <tr>\n",
       "      <th>1</th>\n",
       "      <td>1</td>\n",
       "      <td>Albania</td>\n",
       "      <td>Europe</td>\n",
       "      <td>3162</td>\n",
       "      <td>21.33</td>\n",
       "      <td>14.93</td>\n",
       "      <td>1.75</td>\n",
       "      <td>74</td>\n",
       "      <td>16.7</td>\n",
       "      <td>96.39</td>\n",
       "      <td>NaN</td>\n",
       "      <td>8820.0</td>\n",
       "      <td>NaN</td>\n",
       "      <td>NaN</td>\n",
       "    </tr>\n",
       "    <tr>\n",
       "      <th>2</th>\n",
       "      <td>3</td>\n",
       "      <td>Andorra</td>\n",
       "      <td>Europe</td>\n",
       "      <td>78</td>\n",
       "      <td>15.20</td>\n",
       "      <td>22.86</td>\n",
       "      <td>NaN</td>\n",
       "      <td>82</td>\n",
       "      <td>3.2</td>\n",
       "      <td>75.49</td>\n",
       "      <td>NaN</td>\n",
       "      <td>NaN</td>\n",
       "      <td>78.4</td>\n",
       "      <td>79.4</td>\n",
       "    </tr>\n",
       "    <tr>\n",
       "      <th>3</th>\n",
       "      <td>7</td>\n",
       "      <td>Armenia</td>\n",
       "      <td>Europe</td>\n",
       "      <td>2969</td>\n",
       "      <td>20.34</td>\n",
       "      <td>14.06</td>\n",
       "      <td>1.74</td>\n",
       "      <td>71</td>\n",
       "      <td>16.4</td>\n",
       "      <td>103.57</td>\n",
       "      <td>99.6</td>\n",
       "      <td>6100.0</td>\n",
       "      <td>NaN</td>\n",
       "      <td>NaN</td>\n",
       "    </tr>\n",
       "    <tr>\n",
       "      <th>4</th>\n",
       "      <td>9</td>\n",
       "      <td>Austria</td>\n",
       "      <td>Europe</td>\n",
       "      <td>8464</td>\n",
       "      <td>14.51</td>\n",
       "      <td>23.52</td>\n",
       "      <td>1.44</td>\n",
       "      <td>81</td>\n",
       "      <td>4.0</td>\n",
       "      <td>154.78</td>\n",
       "      <td>NaN</td>\n",
       "      <td>42050.0</td>\n",
       "      <td>NaN</td>\n",
       "      <td>NaN</td>\n",
       "    </tr>\n",
       "  </tbody>\n",
       "</table>\n",
       "</div>"
      ],
      "text/plain": [
       "   Unnamed: 0      Country                 Region  Population  Under15  \\\n",
       "0           0  Afghanistan  Eastern Mediterranean       29825    47.42   \n",
       "1           1      Albania                 Europe        3162    21.33   \n",
       "2           3      Andorra                 Europe          78    15.20   \n",
       "3           7      Armenia                 Europe        2969    20.34   \n",
       "4           9      Austria                 Europe        8464    14.51   \n",
       "\n",
       "   Over60  FertilityRate  LifeExpectancy  ChildMortality  CellularSubscribers  \\\n",
       "0    3.82           5.40              60            98.5                54.26   \n",
       "1   14.93           1.75              74            16.7                96.39   \n",
       "2   22.86            NaN              82             3.2                75.49   \n",
       "3   14.06           1.74              71            16.4               103.57   \n",
       "4   23.52           1.44              81             4.0               154.78   \n",
       "\n",
       "   LiteracyRate      GNI  PrimarySchoolEnrollmentMale  \\\n",
       "0           NaN   1140.0                          NaN   \n",
       "1           NaN   8820.0                          NaN   \n",
       "2           NaN      NaN                         78.4   \n",
       "3          99.6   6100.0                          NaN   \n",
       "4           NaN  42050.0                          NaN   \n",
       "\n",
       "   PrimarySchoolEnrollmentFemale  \n",
       "0                            NaN  \n",
       "1                            NaN  \n",
       "2                           79.4  \n",
       "3                            NaN  \n",
       "4                            NaN  "
      ]
     },
     "execution_count": 40,
     "metadata": {},
     "output_type": "execute_result"
    }
   ],
   "source": [
    "# Display a few data points at the \"head\" (start) of the dataset, i.e. the first few records\n",
    "WHO.head()"
   ]
  },
  {
   "cell_type": "code",
   "execution_count": 41,
   "metadata": {},
   "outputs": [
    {
     "data": {
      "text/html": [
       "<div>\n",
       "<style scoped>\n",
       "    .dataframe tbody tr th:only-of-type {\n",
       "        vertical-align: middle;\n",
       "    }\n",
       "\n",
       "    .dataframe tbody tr th {\n",
       "        vertical-align: top;\n",
       "    }\n",
       "\n",
       "    .dataframe thead th {\n",
       "        text-align: right;\n",
       "    }\n",
       "</style>\n",
       "<table border=\"1\" class=\"dataframe\">\n",
       "  <thead>\n",
       "    <tr style=\"text-align: right;\">\n",
       "      <th></th>\n",
       "      <th>Unnamed: 0</th>\n",
       "      <th>Country</th>\n",
       "      <th>Region</th>\n",
       "      <th>Population</th>\n",
       "      <th>Under15</th>\n",
       "      <th>Over60</th>\n",
       "      <th>FertilityRate</th>\n",
       "      <th>LifeExpectancy</th>\n",
       "      <th>ChildMortality</th>\n",
       "      <th>CellularSubscribers</th>\n",
       "      <th>LiteracyRate</th>\n",
       "      <th>GNI</th>\n",
       "      <th>PrimarySchoolEnrollmentMale</th>\n",
       "      <th>PrimarySchoolEnrollmentFemale</th>\n",
       "    </tr>\n",
       "  </thead>\n",
       "  <tbody>\n",
       "    <tr>\n",
       "      <th>80</th>\n",
       "      <td>178</td>\n",
       "      <td>Turkmenistan</td>\n",
       "      <td>Europe</td>\n",
       "      <td>5173</td>\n",
       "      <td>28.65</td>\n",
       "      <td>6.30</td>\n",
       "      <td>2.38</td>\n",
       "      <td>63</td>\n",
       "      <td>52.8</td>\n",
       "      <td>68.77</td>\n",
       "      <td>99.6</td>\n",
       "      <td>8690.0</td>\n",
       "      <td>NaN</td>\n",
       "      <td>NaN</td>\n",
       "    </tr>\n",
       "    <tr>\n",
       "      <th>81</th>\n",
       "      <td>181</td>\n",
       "      <td>Ukraine</td>\n",
       "      <td>Europe</td>\n",
       "      <td>45530</td>\n",
       "      <td>14.18</td>\n",
       "      <td>20.76</td>\n",
       "      <td>1.45</td>\n",
       "      <td>71</td>\n",
       "      <td>10.7</td>\n",
       "      <td>122.98</td>\n",
       "      <td>99.7</td>\n",
       "      <td>7040.0</td>\n",
       "      <td>90.8</td>\n",
       "      <td>91.5</td>\n",
       "    </tr>\n",
       "    <tr>\n",
       "      <th>82</th>\n",
       "      <td>182</td>\n",
       "      <td>United Arab Emirates</td>\n",
       "      <td>Eastern Mediterranean</td>\n",
       "      <td>9206</td>\n",
       "      <td>14.41</td>\n",
       "      <td>0.81</td>\n",
       "      <td>1.84</td>\n",
       "      <td>76</td>\n",
       "      <td>8.4</td>\n",
       "      <td>148.62</td>\n",
       "      <td>NaN</td>\n",
       "      <td>47890.0</td>\n",
       "      <td>NaN</td>\n",
       "      <td>NaN</td>\n",
       "    </tr>\n",
       "    <tr>\n",
       "      <th>83</th>\n",
       "      <td>183</td>\n",
       "      <td>United Kingdom</td>\n",
       "      <td>Europe</td>\n",
       "      <td>62783</td>\n",
       "      <td>17.54</td>\n",
       "      <td>23.06</td>\n",
       "      <td>1.90</td>\n",
       "      <td>80</td>\n",
       "      <td>4.8</td>\n",
       "      <td>130.75</td>\n",
       "      <td>NaN</td>\n",
       "      <td>36010.0</td>\n",
       "      <td>99.8</td>\n",
       "      <td>99.6</td>\n",
       "    </tr>\n",
       "    <tr>\n",
       "      <th>84</th>\n",
       "      <td>187</td>\n",
       "      <td>Uzbekistan</td>\n",
       "      <td>Europe</td>\n",
       "      <td>28541</td>\n",
       "      <td>28.90</td>\n",
       "      <td>6.38</td>\n",
       "      <td>2.38</td>\n",
       "      <td>68</td>\n",
       "      <td>39.6</td>\n",
       "      <td>91.65</td>\n",
       "      <td>99.4</td>\n",
       "      <td>3420.0</td>\n",
       "      <td>93.3</td>\n",
       "      <td>91.0</td>\n",
       "    </tr>\n",
       "    <tr>\n",
       "      <th>85</th>\n",
       "      <td>191</td>\n",
       "      <td>Yemen</td>\n",
       "      <td>Eastern Mediterranean</td>\n",
       "      <td>23852</td>\n",
       "      <td>40.72</td>\n",
       "      <td>4.54</td>\n",
       "      <td>4.35</td>\n",
       "      <td>64</td>\n",
       "      <td>60.0</td>\n",
       "      <td>47.05</td>\n",
       "      <td>63.9</td>\n",
       "      <td>2170.0</td>\n",
       "      <td>85.5</td>\n",
       "      <td>70.5</td>\n",
       "    </tr>\n",
       "  </tbody>\n",
       "</table>\n",
       "</div>"
      ],
      "text/plain": [
       "    Unnamed: 0               Country                 Region  Population  \\\n",
       "80         178          Turkmenistan                 Europe        5173   \n",
       "81         181               Ukraine                 Europe       45530   \n",
       "82         182  United Arab Emirates  Eastern Mediterranean        9206   \n",
       "83         183        United Kingdom                 Europe       62783   \n",
       "84         187            Uzbekistan                 Europe       28541   \n",
       "85         191                 Yemen  Eastern Mediterranean       23852   \n",
       "\n",
       "    Under15  Over60  FertilityRate  LifeExpectancy  ChildMortality  \\\n",
       "80    28.65    6.30           2.38              63            52.8   \n",
       "81    14.18   20.76           1.45              71            10.7   \n",
       "82    14.41    0.81           1.84              76             8.4   \n",
       "83    17.54   23.06           1.90              80             4.8   \n",
       "84    28.90    6.38           2.38              68            39.6   \n",
       "85    40.72    4.54           4.35              64            60.0   \n",
       "\n",
       "    CellularSubscribers  LiteracyRate      GNI  PrimarySchoolEnrollmentMale  \\\n",
       "80                68.77          99.6   8690.0                          NaN   \n",
       "81               122.98          99.7   7040.0                         90.8   \n",
       "82               148.62           NaN  47890.0                          NaN   \n",
       "83               130.75           NaN  36010.0                         99.8   \n",
       "84                91.65          99.4   3420.0                         93.3   \n",
       "85                47.05          63.9   2170.0                         85.5   \n",
       "\n",
       "    PrimarySchoolEnrollmentFemale  \n",
       "80                            NaN  \n",
       "81                           91.5  \n",
       "82                            NaN  \n",
       "83                           99.6  \n",
       "84                           91.0  \n",
       "85                           70.5  "
      ]
     },
     "execution_count": 41,
     "metadata": {},
     "output_type": "execute_result"
    }
   ],
   "source": [
    "# The last 6 records\n",
    "WHO.tail(6)"
   ]
  },
  {
   "cell_type": "markdown",
   "metadata": {},
   "source": [
    "### Subsets of data"
   ]
  },
  {
   "cell_type": "code",
   "execution_count": 42,
   "metadata": {},
   "outputs": [
    {
     "data": {
      "text/html": [
       "<div>\n",
       "<style scoped>\n",
       "    .dataframe tbody tr th:only-of-type {\n",
       "        vertical-align: middle;\n",
       "    }\n",
       "\n",
       "    .dataframe tbody tr th {\n",
       "        vertical-align: top;\n",
       "    }\n",
       "\n",
       "    .dataframe thead th {\n",
       "        text-align: right;\n",
       "    }\n",
       "</style>\n",
       "<table border=\"1\" class=\"dataframe\">\n",
       "  <thead>\n",
       "    <tr style=\"text-align: right;\">\n",
       "      <th></th>\n",
       "      <th>Unnamed: 0</th>\n",
       "      <th>Country</th>\n",
       "      <th>Region</th>\n",
       "      <th>Population</th>\n",
       "      <th>Under15</th>\n",
       "      <th>Over60</th>\n",
       "      <th>FertilityRate</th>\n",
       "      <th>LifeExpectancy</th>\n",
       "      <th>ChildMortality</th>\n",
       "      <th>CellularSubscribers</th>\n",
       "      <th>LiteracyRate</th>\n",
       "      <th>GNI</th>\n",
       "      <th>PrimarySchoolEnrollmentMale</th>\n",
       "      <th>PrimarySchoolEnrollmentFemale</th>\n",
       "    </tr>\n",
       "  </thead>\n",
       "  <tbody>\n",
       "    <tr>\n",
       "      <th>1</th>\n",
       "      <td>1</td>\n",
       "      <td>Albania</td>\n",
       "      <td>Europe</td>\n",
       "      <td>3162</td>\n",
       "      <td>21.33</td>\n",
       "      <td>14.93</td>\n",
       "      <td>1.75</td>\n",
       "      <td>74</td>\n",
       "      <td>16.7</td>\n",
       "      <td>96.39</td>\n",
       "      <td>NaN</td>\n",
       "      <td>8820.0</td>\n",
       "      <td>NaN</td>\n",
       "      <td>NaN</td>\n",
       "    </tr>\n",
       "    <tr>\n",
       "      <th>2</th>\n",
       "      <td>3</td>\n",
       "      <td>Andorra</td>\n",
       "      <td>Europe</td>\n",
       "      <td>78</td>\n",
       "      <td>15.20</td>\n",
       "      <td>22.86</td>\n",
       "      <td>NaN</td>\n",
       "      <td>82</td>\n",
       "      <td>3.2</td>\n",
       "      <td>75.49</td>\n",
       "      <td>NaN</td>\n",
       "      <td>NaN</td>\n",
       "      <td>78.4</td>\n",
       "      <td>79.4</td>\n",
       "    </tr>\n",
       "    <tr>\n",
       "      <th>3</th>\n",
       "      <td>7</td>\n",
       "      <td>Armenia</td>\n",
       "      <td>Europe</td>\n",
       "      <td>2969</td>\n",
       "      <td>20.34</td>\n",
       "      <td>14.06</td>\n",
       "      <td>1.74</td>\n",
       "      <td>71</td>\n",
       "      <td>16.4</td>\n",
       "      <td>103.57</td>\n",
       "      <td>99.6</td>\n",
       "      <td>6100.0</td>\n",
       "      <td>NaN</td>\n",
       "      <td>NaN</td>\n",
       "    </tr>\n",
       "    <tr>\n",
       "      <th>4</th>\n",
       "      <td>9</td>\n",
       "      <td>Austria</td>\n",
       "      <td>Europe</td>\n",
       "      <td>8464</td>\n",
       "      <td>14.51</td>\n",
       "      <td>23.52</td>\n",
       "      <td>1.44</td>\n",
       "      <td>81</td>\n",
       "      <td>4.0</td>\n",
       "      <td>154.78</td>\n",
       "      <td>NaN</td>\n",
       "      <td>42050.0</td>\n",
       "      <td>NaN</td>\n",
       "      <td>NaN</td>\n",
       "    </tr>\n",
       "    <tr>\n",
       "      <th>5</th>\n",
       "      <td>10</td>\n",
       "      <td>Azerbaijan</td>\n",
       "      <td>Europe</td>\n",
       "      <td>9309</td>\n",
       "      <td>22.25</td>\n",
       "      <td>8.24</td>\n",
       "      <td>1.96</td>\n",
       "      <td>71</td>\n",
       "      <td>35.2</td>\n",
       "      <td>108.75</td>\n",
       "      <td>NaN</td>\n",
       "      <td>8960.0</td>\n",
       "      <td>85.3</td>\n",
       "      <td>84.1</td>\n",
       "    </tr>\n",
       "  </tbody>\n",
       "</table>\n",
       "</div>"
      ],
      "text/plain": [
       "   Unnamed: 0     Country  Region  Population  Under15  Over60  FertilityRate  \\\n",
       "1           1     Albania  Europe        3162    21.33   14.93           1.75   \n",
       "2           3     Andorra  Europe          78    15.20   22.86            NaN   \n",
       "3           7     Armenia  Europe        2969    20.34   14.06           1.74   \n",
       "4           9     Austria  Europe        8464    14.51   23.52           1.44   \n",
       "5          10  Azerbaijan  Europe        9309    22.25    8.24           1.96   \n",
       "\n",
       "   LifeExpectancy  ChildMortality  CellularSubscribers  LiteracyRate      GNI  \\\n",
       "1              74            16.7                96.39           NaN   8820.0   \n",
       "2              82             3.2                75.49           NaN      NaN   \n",
       "3              71            16.4               103.57          99.6   6100.0   \n",
       "4              81             4.0               154.78           NaN  42050.0   \n",
       "5              71            35.2               108.75           NaN   8960.0   \n",
       "\n",
       "   PrimarySchoolEnrollmentMale  PrimarySchoolEnrollmentFemale  \n",
       "1                          NaN                            NaN  \n",
       "2                         78.4                           79.4  \n",
       "3                          NaN                            NaN  \n",
       "4                          NaN                            NaN  \n",
       "5                         85.3                           84.1  "
      ]
     },
     "execution_count": 42,
     "metadata": {},
     "output_type": "execute_result"
    }
   ],
   "source": [
    "# Subset with only the countries in Europe\n",
    "WHO_Europe = WHO[WHO['Region'] == 'Europe']\n",
    "WHO_Europe.head()"
   ]
  },
  {
   "cell_type": "code",
   "execution_count": 43,
   "metadata": {},
   "outputs": [
    {
     "data": {
      "text/plain": [
       "Unnamed: 0                       53\n",
       "Country                          53\n",
       "Region                           53\n",
       "Population                       53\n",
       "Under15                          53\n",
       "Over60                           53\n",
       "FertilityRate                    50\n",
       "LifeExpectancy                   53\n",
       "ChildMortality                   53\n",
       "CellularSubscribers              51\n",
       "LiteracyRate                     26\n",
       "GNI                              48\n",
       "PrimarySchoolEnrollmentMale      38\n",
       "PrimarySchoolEnrollmentFemale    38\n",
       "dtype: int64"
      ]
     },
     "execution_count": 43,
     "metadata": {},
     "output_type": "execute_result"
    }
   ],
   "source": [
    "WHO_Europe.count()"
   ]
  },
  {
   "cell_type": "code",
   "execution_count": 44,
   "metadata": {},
   "outputs": [
    {
     "data": {
      "text/plain": [
       "Unnamed: 0                       86\n",
       "Country                          86\n",
       "Region                           86\n",
       "Population                       86\n",
       "Under15                          86\n",
       "Over60                           86\n",
       "FertilityRate                    83\n",
       "LifeExpectancy                   86\n",
       "ChildMortality                   86\n",
       "CellularSubscribers              83\n",
       "LiteracyRate                     41\n",
       "GNI                              69\n",
       "PrimarySchoolEnrollmentMale      48\n",
       "PrimarySchoolEnrollmentFemale    48\n",
       "dtype: int64"
      ]
     },
     "execution_count": 44,
     "metadata": {},
     "output_type": "execute_result"
    }
   ],
   "source": [
    "# Other subsets\n",
    "WHO_AsiaEurope = WHO[(WHO['Region'] == 'Europe') | (WHO['Region'] == 'South-East Asia') | (WHO['Region'] == \"Eastern Mediterranean\")] \n",
    "WHO_AsiaEurope.count()"
   ]
  },
  {
   "cell_type": "markdown",
   "metadata": {},
   "source": [
    "### Saving dataframe to CSV file"
   ]
  },
  {
   "cell_type": "code",
   "execution_count": 45,
   "metadata": {},
   "outputs": [],
   "source": [
    "WHO_AsiaEurope.to_csv(\"WHO_AsiaEurope.csv\")"
   ]
  },
  {
   "cell_type": "code",
   "execution_count": 46,
   "metadata": {},
   "outputs": [
    {
     "data": {
      "text/plain": [
       "14"
      ]
     },
     "execution_count": 46,
     "metadata": {},
     "output_type": "execute_result"
    }
   ],
   "source": [
    "# EXERCISE: How many countries have population greater than 50 million? \n",
    "Answer = WHO[WHO['Population'] > 50000]\n",
    "len(Answer)\n"
   ]
  },
  {
   "cell_type": "markdown",
   "metadata": {},
   "source": [
    "### More Data Analysis"
   ]
  },
  {
   "cell_type": "markdown",
   "metadata": {},
   "source": [
    "To access a variable in a data frame, you always have to link it to the data frame and call it using square brackets and pass it's name as a string."
   ]
  },
  {
   "cell_type": "code",
   "execution_count": 47,
   "metadata": {},
   "outputs": [
    {
     "ename": "NameError",
     "evalue": "name 'LifeExpectancy' is not defined",
     "output_type": "error",
     "traceback": [
      "\u001b[1;31m---------------------------------------------------------------------------\u001b[0m",
      "\u001b[1;31mNameError\u001b[0m                                 Traceback (most recent call last)",
      "\u001b[1;32mc:\\Users\\minon\\Downloads\\Lab1_teaching.ipynb Cellule 77\u001b[0m in \u001b[0;36m<cell line: 2>\u001b[1;34m()\u001b[0m\n\u001b[0;32m      <a href='vscode-notebook-cell:/c%3A/Users/minon/Downloads/Lab1_teaching.ipynb#Y136sZmlsZQ%3D%3D?line=0'>1</a>\u001b[0m \u001b[39m# This will give you an error!\u001b[39;00m\n\u001b[1;32m----> <a href='vscode-notebook-cell:/c%3A/Users/minon/Downloads/Lab1_teaching.ipynb#Y136sZmlsZQ%3D%3D?line=1'>2</a>\u001b[0m LifeExpectancy\n",
      "\u001b[1;31mNameError\u001b[0m: name 'LifeExpectancy' is not defined"
     ]
    }
   ],
   "source": [
    "# This will give you an error!\n",
    "LifeExpectancy"
   ]
  },
  {
   "cell_type": "code",
   "execution_count": 48,
   "metadata": {},
   "outputs": [
    {
     "data": {
      "text/plain": [
       "0     60\n",
       "1     74\n",
       "2     82\n",
       "3     71\n",
       "4     81\n",
       "      ..\n",
       "81    71\n",
       "82    76\n",
       "83    80\n",
       "84    68\n",
       "85    64\n",
       "Name: LifeExpectancy, Length: 86, dtype: int64"
      ]
     },
     "execution_count": 48,
     "metadata": {},
     "output_type": "execute_result"
    }
   ],
   "source": [
    "# Now, run this.\n",
    "WHO['LifeExpectancy']"
   ]
  },
  {
   "cell_type": "markdown",
   "metadata": {},
   "source": [
    "### Statistics"
   ]
  },
  {
   "cell_type": "code",
   "execution_count": 49,
   "metadata": {},
   "outputs": [
    {
     "name": "stdout",
     "output_type": "stream",
     "text": [
      "73.96511627906976\n",
      "83\n",
      "50\n"
     ]
    }
   ],
   "source": [
    "# Statistics about this variable\n",
    "print((WHO['LifeExpectancy'].mean()))\n",
    "print((WHO['LifeExpectancy'].max()))\n",
    "print((WHO['LifeExpectancy'].min()))"
   ]
  },
  {
   "cell_type": "code",
   "execution_count": 50,
   "metadata": {},
   "outputs": [
    {
     "data": {
      "text/plain": [
       "count    86.000000\n",
       "mean     73.965116\n",
       "std       6.966217\n",
       "min      50.000000\n",
       "25%      69.250000\n",
       "50%      75.000000\n",
       "75%      80.000000\n",
       "max      83.000000\n",
       "Name: LifeExpectancy, dtype: float64"
      ]
     },
     "execution_count": 50,
     "metadata": {},
     "output_type": "execute_result"
    }
   ],
   "source": [
    "# Standard deviation\n",
    "WHO['LifeExpectancy'].std\n",
    "WHO['LifeExpectancy'].describe()"
   ]
  },
  {
   "cell_type": "code",
   "execution_count": 51,
   "metadata": {},
   "outputs": [
    {
     "data": {
      "text/plain": [
       "count       69.000000\n",
       "mean     19958.405797\n",
       "std      17635.245593\n",
       "min       1140.000000\n",
       "25%       5930.000000\n",
       "50%      14470.000000\n",
       "75%      31020.000000\n",
       "max      86440.000000\n",
       "Name: GNI, dtype: float64"
      ]
     },
     "execution_count": 51,
     "metadata": {},
     "output_type": "execute_result"
    }
   ],
   "source": [
    "WHO['GNI'].describe()\n",
    "\n",
    "# What's different here?\n",
    "\n"
   ]
  },
  {
   "cell_type": "code",
   "execution_count": 52,
   "metadata": {},
   "outputs": [
    {
     "name": "stdout",
     "output_type": "stream",
     "text": [
      "Somalia\n",
      "San Marino\n"
     ]
    }
   ],
   "source": [
    "# Identify countries corresponding to max and min\n",
    "idx_min = WHO['LifeExpectancy'].argmin()\n",
    "print(WHO['Country'][idx_min])\n",
    "\n",
    "idx_max = WHO['LifeExpectancy'].argmax()\n",
    "print(WHO['Country'][idx_max])"
   ]
  },
  {
   "cell_type": "code",
   "execution_count": 58,
   "metadata": {},
   "outputs": [],
   "source": [
    "# EXERCISE:\n",
    "# What is the largest population value among all countries?\n",
    "# Which country has the largest population?\n",
    "\n",
    "pop_max = WHO['Population'].max()\n",
    "\n",
    "idx_country = WHO['Population'].argmax()\n",
    "\n"
   ]
  },
  {
   "cell_type": "code",
   "execution_count": 60,
   "metadata": {},
   "outputs": [
    {
     "name": "stdout",
     "output_type": "stream",
     "text": [
      "The country having the largest population is : 1240000 and its population is : India\n"
     ]
    }
   ],
   "source": [
    "print('The country having the largest population is : {} and its population is : {}'.format(pop_max, WHO['Country'][idx_country]))"
   ]
  },
  {
   "cell_type": "markdown",
   "metadata": {},
   "source": [
    "### Dealing with missing data"
   ]
  },
  {
   "cell_type": "code",
   "execution_count": 61,
   "metadata": {},
   "outputs": [
    {
     "data": {
      "text/html": [
       "<div>\n",
       "<style scoped>\n",
       "    .dataframe tbody tr th:only-of-type {\n",
       "        vertical-align: middle;\n",
       "    }\n",
       "\n",
       "    .dataframe tbody tr th {\n",
       "        vertical-align: top;\n",
       "    }\n",
       "\n",
       "    .dataframe thead th {\n",
       "        text-align: right;\n",
       "    }\n",
       "</style>\n",
       "<table border=\"1\" class=\"dataframe\">\n",
       "  <thead>\n",
       "    <tr style=\"text-align: right;\">\n",
       "      <th></th>\n",
       "      <th>Unnamed: 0</th>\n",
       "      <th>Country</th>\n",
       "      <th>Region</th>\n",
       "      <th>Population</th>\n",
       "      <th>Under15</th>\n",
       "      <th>Over60</th>\n",
       "      <th>FertilityRate</th>\n",
       "      <th>LifeExpectancy</th>\n",
       "      <th>ChildMortality</th>\n",
       "      <th>CellularSubscribers</th>\n",
       "      <th>LiteracyRate</th>\n",
       "      <th>GNI</th>\n",
       "      <th>PrimarySchoolEnrollmentMale</th>\n",
       "      <th>PrimarySchoolEnrollmentFemale</th>\n",
       "    </tr>\n",
       "  </thead>\n",
       "  <tbody>\n",
       "    <tr>\n",
       "      <th>0</th>\n",
       "      <td>0</td>\n",
       "      <td>Afghanistan</td>\n",
       "      <td>Eastern Mediterranean</td>\n",
       "      <td>29825</td>\n",
       "      <td>47.42</td>\n",
       "      <td>3.82</td>\n",
       "      <td>5.40</td>\n",
       "      <td>60</td>\n",
       "      <td>98.5</td>\n",
       "      <td>54.26</td>\n",
       "      <td>NaN</td>\n",
       "      <td>1140.0</td>\n",
       "      <td>NaN</td>\n",
       "      <td>NaN</td>\n",
       "    </tr>\n",
       "    <tr>\n",
       "      <th>1</th>\n",
       "      <td>1</td>\n",
       "      <td>Albania</td>\n",
       "      <td>Europe</td>\n",
       "      <td>3162</td>\n",
       "      <td>21.33</td>\n",
       "      <td>14.93</td>\n",
       "      <td>1.75</td>\n",
       "      <td>74</td>\n",
       "      <td>16.7</td>\n",
       "      <td>96.39</td>\n",
       "      <td>NaN</td>\n",
       "      <td>8820.0</td>\n",
       "      <td>NaN</td>\n",
       "      <td>NaN</td>\n",
       "    </tr>\n",
       "    <tr>\n",
       "      <th>2</th>\n",
       "      <td>3</td>\n",
       "      <td>Andorra</td>\n",
       "      <td>Europe</td>\n",
       "      <td>78</td>\n",
       "      <td>15.20</td>\n",
       "      <td>22.86</td>\n",
       "      <td>NaN</td>\n",
       "      <td>82</td>\n",
       "      <td>3.2</td>\n",
       "      <td>75.49</td>\n",
       "      <td>NaN</td>\n",
       "      <td>NaN</td>\n",
       "      <td>78.4</td>\n",
       "      <td>79.4</td>\n",
       "    </tr>\n",
       "    <tr>\n",
       "      <th>3</th>\n",
       "      <td>7</td>\n",
       "      <td>Armenia</td>\n",
       "      <td>Europe</td>\n",
       "      <td>2969</td>\n",
       "      <td>20.34</td>\n",
       "      <td>14.06</td>\n",
       "      <td>1.74</td>\n",
       "      <td>71</td>\n",
       "      <td>16.4</td>\n",
       "      <td>103.57</td>\n",
       "      <td>99.6</td>\n",
       "      <td>6100.0</td>\n",
       "      <td>NaN</td>\n",
       "      <td>NaN</td>\n",
       "    </tr>\n",
       "    <tr>\n",
       "      <th>4</th>\n",
       "      <td>9</td>\n",
       "      <td>Austria</td>\n",
       "      <td>Europe</td>\n",
       "      <td>8464</td>\n",
       "      <td>14.51</td>\n",
       "      <td>23.52</td>\n",
       "      <td>1.44</td>\n",
       "      <td>81</td>\n",
       "      <td>4.0</td>\n",
       "      <td>154.78</td>\n",
       "      <td>NaN</td>\n",
       "      <td>42050.0</td>\n",
       "      <td>NaN</td>\n",
       "      <td>NaN</td>\n",
       "    </tr>\n",
       "    <tr>\n",
       "      <th>...</th>\n",
       "      <td>...</td>\n",
       "      <td>...</td>\n",
       "      <td>...</td>\n",
       "      <td>...</td>\n",
       "      <td>...</td>\n",
       "      <td>...</td>\n",
       "      <td>...</td>\n",
       "      <td>...</td>\n",
       "      <td>...</td>\n",
       "      <td>...</td>\n",
       "      <td>...</td>\n",
       "      <td>...</td>\n",
       "      <td>...</td>\n",
       "      <td>...</td>\n",
       "    </tr>\n",
       "    <tr>\n",
       "      <th>81</th>\n",
       "      <td>181</td>\n",
       "      <td>Ukraine</td>\n",
       "      <td>Europe</td>\n",
       "      <td>45530</td>\n",
       "      <td>14.18</td>\n",
       "      <td>20.76</td>\n",
       "      <td>1.45</td>\n",
       "      <td>71</td>\n",
       "      <td>10.7</td>\n",
       "      <td>122.98</td>\n",
       "      <td>99.7</td>\n",
       "      <td>7040.0</td>\n",
       "      <td>90.8</td>\n",
       "      <td>91.5</td>\n",
       "    </tr>\n",
       "    <tr>\n",
       "      <th>82</th>\n",
       "      <td>182</td>\n",
       "      <td>United Arab Emirates</td>\n",
       "      <td>Eastern Mediterranean</td>\n",
       "      <td>9206</td>\n",
       "      <td>14.41</td>\n",
       "      <td>0.81</td>\n",
       "      <td>1.84</td>\n",
       "      <td>76</td>\n",
       "      <td>8.4</td>\n",
       "      <td>148.62</td>\n",
       "      <td>NaN</td>\n",
       "      <td>47890.0</td>\n",
       "      <td>NaN</td>\n",
       "      <td>NaN</td>\n",
       "    </tr>\n",
       "    <tr>\n",
       "      <th>83</th>\n",
       "      <td>183</td>\n",
       "      <td>United Kingdom</td>\n",
       "      <td>Europe</td>\n",
       "      <td>62783</td>\n",
       "      <td>17.54</td>\n",
       "      <td>23.06</td>\n",
       "      <td>1.90</td>\n",
       "      <td>80</td>\n",
       "      <td>4.8</td>\n",
       "      <td>130.75</td>\n",
       "      <td>NaN</td>\n",
       "      <td>36010.0</td>\n",
       "      <td>99.8</td>\n",
       "      <td>99.6</td>\n",
       "    </tr>\n",
       "    <tr>\n",
       "      <th>84</th>\n",
       "      <td>187</td>\n",
       "      <td>Uzbekistan</td>\n",
       "      <td>Europe</td>\n",
       "      <td>28541</td>\n",
       "      <td>28.90</td>\n",
       "      <td>6.38</td>\n",
       "      <td>2.38</td>\n",
       "      <td>68</td>\n",
       "      <td>39.6</td>\n",
       "      <td>91.65</td>\n",
       "      <td>99.4</td>\n",
       "      <td>3420.0</td>\n",
       "      <td>93.3</td>\n",
       "      <td>91.0</td>\n",
       "    </tr>\n",
       "    <tr>\n",
       "      <th>85</th>\n",
       "      <td>191</td>\n",
       "      <td>Yemen</td>\n",
       "      <td>Eastern Mediterranean</td>\n",
       "      <td>23852</td>\n",
       "      <td>40.72</td>\n",
       "      <td>4.54</td>\n",
       "      <td>4.35</td>\n",
       "      <td>64</td>\n",
       "      <td>60.0</td>\n",
       "      <td>47.05</td>\n",
       "      <td>63.9</td>\n",
       "      <td>2170.0</td>\n",
       "      <td>85.5</td>\n",
       "      <td>70.5</td>\n",
       "    </tr>\n",
       "  </tbody>\n",
       "</table>\n",
       "<p>86 rows × 14 columns</p>\n",
       "</div>"
      ],
      "text/plain": [
       "    Unnamed: 0               Country                 Region  Population  \\\n",
       "0            0           Afghanistan  Eastern Mediterranean       29825   \n",
       "1            1               Albania                 Europe        3162   \n",
       "2            3               Andorra                 Europe          78   \n",
       "3            7               Armenia                 Europe        2969   \n",
       "4            9               Austria                 Europe        8464   \n",
       "..         ...                   ...                    ...         ...   \n",
       "81         181               Ukraine                 Europe       45530   \n",
       "82         182  United Arab Emirates  Eastern Mediterranean        9206   \n",
       "83         183        United Kingdom                 Europe       62783   \n",
       "84         187            Uzbekistan                 Europe       28541   \n",
       "85         191                 Yemen  Eastern Mediterranean       23852   \n",
       "\n",
       "    Under15  Over60  FertilityRate  LifeExpectancy  ChildMortality  \\\n",
       "0     47.42    3.82           5.40              60            98.5   \n",
       "1     21.33   14.93           1.75              74            16.7   \n",
       "2     15.20   22.86            NaN              82             3.2   \n",
       "3     20.34   14.06           1.74              71            16.4   \n",
       "4     14.51   23.52           1.44              81             4.0   \n",
       "..      ...     ...            ...             ...             ...   \n",
       "81    14.18   20.76           1.45              71            10.7   \n",
       "82    14.41    0.81           1.84              76             8.4   \n",
       "83    17.54   23.06           1.90              80             4.8   \n",
       "84    28.90    6.38           2.38              68            39.6   \n",
       "85    40.72    4.54           4.35              64            60.0   \n",
       "\n",
       "    CellularSubscribers  LiteracyRate      GNI  PrimarySchoolEnrollmentMale  \\\n",
       "0                 54.26           NaN   1140.0                          NaN   \n",
       "1                 96.39           NaN   8820.0                          NaN   \n",
       "2                 75.49           NaN      NaN                         78.4   \n",
       "3                103.57          99.6   6100.0                          NaN   \n",
       "4                154.78           NaN  42050.0                          NaN   \n",
       "..                  ...           ...      ...                          ...   \n",
       "81               122.98          99.7   7040.0                         90.8   \n",
       "82               148.62           NaN  47890.0                          NaN   \n",
       "83               130.75           NaN  36010.0                         99.8   \n",
       "84                91.65          99.4   3420.0                         93.3   \n",
       "85                47.05          63.9   2170.0                         85.5   \n",
       "\n",
       "    PrimarySchoolEnrollmentFemale  \n",
       "0                             NaN  \n",
       "1                             NaN  \n",
       "2                            79.4  \n",
       "3                             NaN  \n",
       "4                             NaN  \n",
       "..                            ...  \n",
       "81                           91.5  \n",
       "82                            NaN  \n",
       "83                           99.6  \n",
       "84                           91.0  \n",
       "85                           70.5  \n",
       "\n",
       "[86 rows x 14 columns]"
      ]
     },
     "execution_count": 61,
     "metadata": {},
     "output_type": "execute_result"
    }
   ],
   "source": [
    "WHO"
   ]
  },
  {
   "cell_type": "code",
   "execution_count": 62,
   "metadata": {},
   "outputs": [
    {
     "data": {
      "text/plain": [
       "0     NaN\n",
       "1     NaN\n",
       "2     NaN\n",
       "3    99.6\n",
       "4     NaN\n",
       "Name: LiteracyRate, dtype: float64"
      ]
     },
     "execution_count": 62,
     "metadata": {},
     "output_type": "execute_result"
    }
   ],
   "source": [
    "# Dealing with NAs\n",
    "# Try:\n",
    "WHO['LiteracyRate'].head()"
   ]
  },
  {
   "cell_type": "code",
   "execution_count": 65,
   "metadata": {},
   "outputs": [
    {
     "data": {
      "text/plain": [
       "3     99.6\n",
       "6     91.9\n",
       "7     56.8\n",
       "11    97.9\n",
       "13    98.8\n",
       "Name: LiteracyRate, dtype: float64"
      ]
     },
     "execution_count": 65,
     "metadata": {},
     "output_type": "execute_result"
    }
   ],
   "source": [
    "WHO.dropna(subset = ['LiteracyRate'], inplace=True)\n",
    "WHO['LiteracyRate'].head()"
   ]
  },
  {
   "cell_type": "markdown",
   "metadata": {},
   "source": [
    "# References\n",
    "- [1] Special thanks to the [EECS127 Fall 2019](https://inst.eecs.berkeley.edu/~ee127/fa19/) for providing a great starting point for Intro to Jupyter\n",
    "- [2] D-lab intro to Pandas [Link](https://github.com/dlab-berkeley/Python-Data-Wrangling)\n",
    "- [3] The official Python 3 language documentation. [Link](https://docs.python.org/3/).\n",
    "- [4] The official NumPy and SciPy documentation. [Link](https://docs.scipy.org/doc/)."
   ]
  },
  {
   "cell_type": "markdown",
   "metadata": {},
   "source": [
    "# Other useful material"
   ]
  },
  {
   "cell_type": "markdown",
   "metadata": {},
   "source": [
    "- Towards data science tutorial on pandas [Link](https://medium.com/towards-data-science/be-a-more-efficient-data-scientist-today-master-pandas-with-this-guide-ea362d27386)\n",
    "- Coursera beginner level class on Pandas (2 hours long prject based teaching) [Link](https://www.coursera.org/projects/python-for-data-analysis-numpy)\n",
    "- [Stackoverflow](https://stackoverflow.com): when you have a doubt about how to code something, you can usually find the answer you are looking for\n",
    "- [Coursera](https://www.coursera.org): popular website for online learning, good material for beginner and gently introduction to Python"
   ]
  },
  {
   "cell_type": "code",
   "execution_count": null,
   "metadata": {},
   "outputs": [],
   "source": []
  }
 ],
 "metadata": {
  "kernelspec": {
   "display_name": "Python 3.10.4 64-bit",
   "language": "python",
   "name": "python3"
  },
  "language_info": {
   "codemirror_mode": {
    "name": "ipython",
    "version": 3
   },
   "file_extension": ".py",
   "mimetype": "text/x-python",
   "name": "python",
   "nbconvert_exporter": "python",
   "pygments_lexer": "ipython3",
   "version": "3.10.4"
  },
  "vscode": {
   "interpreter": {
    "hash": "27c0491bc2de4eade874e0d01d7fedd2396e409c6f5607118d2facfa41a47803"
   }
  }
 },
 "nbformat": 4,
 "nbformat_minor": 4
}
